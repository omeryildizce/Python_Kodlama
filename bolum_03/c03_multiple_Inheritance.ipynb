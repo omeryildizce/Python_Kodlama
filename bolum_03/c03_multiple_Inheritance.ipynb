{
 "cells": [
  {
   "cell_type": "markdown",
   "metadata": {},
   "source": [
    "# Multiple Inheritance (Çoklu Miras Alma)"
   ]
  },
  {
   "cell_type": "code",
   "execution_count": 2,
   "metadata": {},
   "outputs": [
    {
     "name": "stdout",
     "output_type": "stream",
     "text": [
      "Anne sınıfının özellikleri\n",
      "Baba sınıfının özellikleri\n"
     ]
    }
   ],
   "source": [
    "class Anne:\n",
    "    def print_anne(self):\n",
    "        print(\"Anne sınıfının özellikleri\")\n",
    "\n",
    "class Baba:\n",
    "    def print_baba(self):\n",
    "        print(\"Baba sınıfının özellikleri\")\n",
    "\n",
    "class Cocuk(Anne,Baba):\n",
    "    pass\n",
    "\n",
    "object_d = Cocuk()\n",
    "object_d.print_anne()\n",
    "object_d.print_baba()\n"
   ]
  },
  {
   "cell_type": "code",
   "execution_count": 3,
   "metadata": {},
   "outputs": [
    {
     "name": "stdout",
     "output_type": "stream",
     "text": [
      "Siyah\n"
     ]
    }
   ],
   "source": [
    "class Anne:\n",
    " \n",
    "    def __init__(self):\n",
    "        self.goz_rengi =  \"Yeşil\"\n",
    "        print(self.goz_rengi)\n",
    " \n",
    "class Baba:\n",
    "    def __init__(self):\n",
    "        self.goz_rengi = \"Siyah\"\n",
    "        print(self.goz_rengi)\n",
    " \n",
    "class Cocuk(Baba,Anne):\n",
    "    pass\n",
    " \n",
    "object_d = Cocuk()"
   ]
  },
  {
   "cell_type": "markdown",
   "metadata": {},
   "source": [
    "## Çoklu Miras Alma da Yapıcı Fonksiyon\n"
   ]
  },
  {
   "cell_type": "code",
   "execution_count": 4,
   "metadata": {},
   "outputs": [
    {
     "name": "stdout",
     "output_type": "stream",
     "text": [
      "Yeşil\n"
     ]
    }
   ],
   "source": [
    "class Anne:\n",
    " \n",
    "    def __init__(self):\n",
    "        self.goz_rengi =  \"Yeşil\"\n",
    "        print(self.goz_rengi)\n",
    " \n",
    "class Baba:\n",
    "    def __init__(self):\n",
    "        self.goz_rengi = \"Siyah\"\n",
    "        print(self.goz_rengi)\n",
    " \n",
    "class Cocuk(Baba,Anne):\n",
    "    def __init__(self):\n",
    "        Anne.__init__(self)\n",
    " \n",
    "object_d = Cocuk()"
   ]
  },
  {
   "cell_type": "code",
   "execution_count": 5,
   "metadata": {},
   "outputs": [
    {
     "name": "stdout",
     "output_type": "stream",
     "text": [
      "Yeşil\n",
      "1.86\n"
     ]
    }
   ],
   "source": [
    "class Anne:\n",
    " \n",
    "    def __init__(self):\n",
    "        self.goz_rengi =  \"Yeşil\"\n",
    "        print(self.goz_rengi)\n",
    " \n",
    "    def boyu(self):\n",
    "        self.boyu = 1.70\n",
    "        print(self.boyu)\n",
    " \n",
    "class Baba:\n",
    "    def __init__(self):\n",
    "        self.goz_rengi = \"Siyah\"\n",
    "        print(self.goz_rengi)\n",
    " \n",
    "    def boyu(self):\n",
    "        self.boyu = 1.86\n",
    "        print(self.boyu)\n",
    " \n",
    "class Cocuk(Baba,Anne):\n",
    "    def __init__(self):\n",
    "        Anne.__init__(self)\n",
    " \n",
    "object_d = Cocuk()\n",
    "object_d.boyu()"
   ]
  },
  {
   "cell_type": "code",
   "execution_count": 6,
   "metadata": {},
   "outputs": [
    {
     "name": "stdout",
     "output_type": "stream",
     "text": [
      "Yeşil\n",
      "1.75\n"
     ]
    }
   ],
   "source": [
    "class Anne:\n",
    " \n",
    "    def __init__(self):\n",
    "        self.goz_rengi =  \"Yeşil\"\n",
    "        print(self.goz_rengi)\n",
    " \n",
    "    def boy(self):\n",
    "        self.boyu = 1.75\n",
    "        print(self.boyu)\n",
    " \n",
    "class Baba:\n",
    "    def __init__(self):\n",
    "        self.goz_rengi = \"Siyah\"\n",
    "        print(self.goz_rengi)\n",
    " \n",
    "    def boy(self):\n",
    "        self.boyu = 1.86\n",
    "        print(self.boyu)\n",
    " \n",
    "class Cocuk(Baba,Anne):\n",
    "    def __init__(self):\n",
    "        Anne.__init__(self)\n",
    " \n",
    "    def boy(self):\n",
    "        return Anne.boy(self)\n",
    " \n",
    "object_d = Cocuk()\n",
    "object_d.boy()"
   ]
  },
  {
   "cell_type": "code",
   "execution_count": 7,
   "metadata": {},
   "outputs": [
    {
     "name": "stdout",
     "output_type": "stream",
     "text": [
      "Yeşil\n",
      "1.75\n"
     ]
    }
   ],
   "source": [
    "class Torun(Cocuk):\n",
    "    pass\n",
    " \n",
    "torun = Torun()\n",
    "torun.goz_rengi\n",
    "torun.boy()"
   ]
  },
  {
   "cell_type": "code",
   "execution_count": null,
   "metadata": {},
   "outputs": [],
   "source": []
  }
 ],
 "metadata": {
  "kernelspec": {
   "display_name": "Python 3.10.5 64-bit",
   "language": "python",
   "name": "python3"
  },
  "language_info": {
   "codemirror_mode": {
    "name": "ipython",
    "version": 3
   },
   "file_extension": ".py",
   "mimetype": "text/x-python",
   "name": "python",
   "nbconvert_exporter": "python",
   "pygments_lexer": "ipython3",
   "version": "3.10.5"
  },
  "orig_nbformat": 4,
  "vscode": {
   "interpreter": {
    "hash": "b885c526da3326e581d3a88563282ab625602807b12d7b4af8a2a7f32a015837"
   }
  }
 },
 "nbformat": 4,
 "nbformat_minor": 2
}
