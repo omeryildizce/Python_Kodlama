{
 "cells": [
  {
   "cell_type": "markdown",
   "metadata": {},
   "source": [
    "# Classs"
   ]
  },
  {
   "cell_type": "code",
   "execution_count": 1,
   "metadata": {},
   "outputs": [
    {
     "name": "stdout",
     "output_type": "stream",
     "text": [
      "<class 'type'>\n",
      "<class 'type'>\n",
      "<class 'type'>\n",
      "<class 'type'>\n",
      "<class 'type'>\n"
     ]
    }
   ],
   "source": [
    "print(type(list))\n",
    "print(type(str))\n",
    "print(type(tuple))\n",
    "print(type(int))\n",
    "print(type(dict))\n",
    " "
   ]
  },
  {
   "cell_type": "code",
   "execution_count": 3,
   "metadata": {},
   "outputs": [],
   "source": [
    "class Araba:\n",
    "    pass"
   ]
  },
  {
   "cell_type": "markdown",
   "metadata": {},
   "source": [
    "## Sınıf Nitelikleri\n"
   ]
  },
  {
   "cell_type": "code",
   "execution_count": 4,
   "metadata": {},
   "outputs": [],
   "source": [
    "class Araba:\n",
    "    marka = \"audi\"\n",
    "    renk = \"siyah\"\n",
    "    plaka = \"06AAA06\""
   ]
  },
  {
   "cell_type": "code",
   "execution_count": 9,
   "metadata": {},
   "outputs": [
    {
     "data": {
      "text/plain": [
       "'Ford'"
      ]
     },
     "execution_count": 9,
     "metadata": {},
     "output_type": "execute_result"
    }
   ],
   "source": [
    "araba1 = Araba\n",
    "araba1.marka = \"Ford\"\n",
    "araba1.renk = \"siyah\"\n",
    "araba1.plaka = \"01AAA01\"\n",
    "\n",
    "araba1.marka"
   ]
  },
  {
   "cell_type": "code",
   "execution_count": 10,
   "metadata": {},
   "outputs": [],
   "source": [
    "class Araba:\n",
    "    marka = \"\"\n",
    "    renk = \"\"\n",
    "    plaka = \"\"\n",
    "\n",
    "araba1 = Araba()\n",
    "araba1.marka = \"Ford\"\n",
    "araba1.renk = \"siyah\"\n",
    "araba1.plaka = \"01AAA01\"\n",
    "\n",
    "araba2 = Araba()\n",
    "araba2.marka = \"BMW\"\n",
    "araba2.renk = \"beyaz\"\n",
    "araba2.plaka = \"34 AAA 34\""
   ]
  },
  {
   "cell_type": "code",
   "execution_count": 11,
   "metadata": {},
   "outputs": [
    {
     "name": "stdout",
     "output_type": "stream",
     "text": [
      "-------ARABA 1------\n",
      "Marka: Ford \n",
      "Renk :siyah\n",
      "Plaka :01AAA01\n",
      "-------ARABA 2------\n",
      "Marka: BMW \n",
      "Renk :beyaz\n",
      "Plaka :34 AAA 34\n"
     ]
    }
   ],
   "source": [
    "print(\"-------ARABA 1------\")\n",
    "print(\"Marka: {} \\nRenk :{}\\nPlaka :{}\".format(araba1.marka,araba1.renk,araba1.plaka))\n",
    "\n",
    "print(\"-------ARABA 2------\")\n",
    "print(\"Marka: {} \\nRenk :{}\\nPlaka :{}\".format(araba2.marka,araba2.renk,araba2.plaka))"
   ]
  },
  {
   "cell_type": "markdown",
   "metadata": {},
   "source": [
    "## self"
   ]
  },
  {
   "cell_type": "code",
   "execution_count": 25,
   "metadata": {},
   "outputs": [],
   "source": [
    "class Araba:\n",
    "    marka = \"\"\n",
    "    renk = \"\"\n",
    "    plaka = \"\"\n",
    "    hiz = 0\n",
    "    def hizArttir(self):\n",
    "        self.hiz += 10\n",
    "        return self.hiz\n",
    "\n"
   ]
  },
  {
   "cell_type": "code",
   "execution_count": 26,
   "metadata": {},
   "outputs": [
    {
     "name": "stdout",
     "output_type": "stream",
     "text": [
      "-------ARABA ------\n",
      "Marka: FORD \n",
      "Renk :Siyah\n",
      "Plaka :34 AAA 34\n"
     ]
    }
   ],
   "source": [
    "araba = Araba()\n",
    "araba.marka =\"FORD\"\n",
    "araba.renk =\"Siyah\"\n",
    "araba.plaka =\"34 AAA 34\"\n",
    " \n",
    "print(\"-------ARABA ------\")\n",
    "print(\"Marka: {} \\nRenk :{}\\nPlaka :{}\".format(araba.marka,araba.renk,araba.plaka))"
   ]
  },
  {
   "cell_type": "code",
   "execution_count": 29,
   "metadata": {},
   "outputs": [
    {
     "name": "stdout",
     "output_type": "stream",
     "text": [
      "Hız:  30\n"
     ]
    }
   ],
   "source": [
    "araba.hizArttir()\n",
    "print(\"Hız: \",araba.hiz)\n"
   ]
  },
  {
   "cell_type": "markdown",
   "metadata": {},
   "source": [
    "## Python __ __init__ __() Fonksiyonu:\n",
    "* python nesne oluşturulduğunda  default olarak çalıştırılan fonksiyondur."
   ]
  },
  {
   "cell_type": "code",
   "execution_count": 30,
   "metadata": {},
   "outputs": [
    {
     "name": "stdout",
     "output_type": "stream",
     "text": [
      "Yapıcı fonksiyon __init__() fonksiyonu çalıştı...\n"
     ]
    }
   ],
   "source": [
    "class Araba:\n",
    "    def __init__(self):\n",
    "        print(\"Yapıcı fonksiyon __init__() fonksiyonu çalıştı...\")\n",
    " \n",
    " \n",
    "araba = Araba()"
   ]
  },
  {
   "cell_type": "code",
   "execution_count": 39,
   "metadata": {},
   "outputs": [
    {
     "name": "stdout",
     "output_type": "stream",
     "text": [
      "------Araba 1 ------\n",
      "Audi Green 06 AAA 06 120 km/h \n",
      "\n",
      "-----Araba 2 -------\n",
      "Ford Red 33 AAA 33 90 km/h "
     ]
    }
   ],
   "source": [
    "class Araba:\n",
    "    def __init__(self, marka, renk, plaka, hiz):\n",
    "        self.marka = marka\n",
    "        self.renk = renk\n",
    "        self.plaka = plaka\n",
    "        self.hiz = str(hiz) + \" km/h\"\n",
    "    \n",
    "araba1 = Araba(\"Audi\", \"Green\", \"06 AAA 06\", 120)\n",
    "araba2 = Araba(\"Ford\", \"Red\", \"33 AAA 33\", 90)\n",
    "\n",
    "\n",
    "print(\"------Araba 1 ------\")\n",
    "print(araba1.marka, end=\" \")\n",
    "print(araba1.renk, end=\" \")\n",
    "print(araba1.plaka, end=\" \")\n",
    "print(araba1.hiz, end=\" \")\n",
    "print()\n",
    "print()\n",
    "print(\"-----Araba 2 -------\")\n",
    "print(araba2.marka, end=\" \")\n",
    "print(araba2.renk, end=\" \")\n",
    "print(araba2.plaka, end=\" \")\n",
    "print(araba2.hiz, end=\" \")"
   ]
  },
  {
   "cell_type": "code",
   "execution_count": 43,
   "metadata": {},
   "outputs": [
    {
     "name": "stdout",
     "output_type": "stream",
     "text": [
      "------Araba 1 ------\n",
      "Toyota\n",
      "Mavi\n",
      "01 AAA 01\n",
      "73 km/h\n"
     ]
    }
   ],
   "source": [
    "class Araba:\n",
    "    def __init__(self,marka=\"Toyota\",renk=\"Mavi\",plaka=\"01 AAA 01\",hiz=73):\n",
    "        self.marka = marka\n",
    "        self.renk = renk\n",
    "        self.plaka = plaka\n",
    "        self.hiz = str(hiz) + \" km/h\"\n",
    " \n",
    "araba1 = Araba()\n",
    "print(\"------Araba 1 ------\")\n",
    "print(araba1.marka)\n",
    "print(araba1.renk)\n",
    "print(araba1.plaka)\n",
    "print(araba1.hiz)"
   ]
  },
  {
   "cell_type": "code",
   "execution_count": 46,
   "metadata": {},
   "outputs": [
    {
     "name": "stdout",
     "output_type": "stream",
     "text": [
      "------Araba 1 ------\n",
      "Toyota\n",
      "Mavi\n",
      "01 AAA 01\n",
      "73 km/h\n",
      "\n",
      "\n",
      "-----Araba 2 -------\n",
      "Ford\n",
      "Beyaz\n",
      "14 AAA 14\n",
      "131 km/h\n"
     ]
    }
   ],
   "source": [
    "class Araba:\n",
    "    def __init__(self,marka=\"Toyota\",renk=\"Mavi\",plaka=\"01 AAA 01\",hiz=73):\n",
    "        self.marka = marka\n",
    "        self.renk = renk\n",
    "        self.plaka = plaka\n",
    "        self.hiz = str(hiz) + \" km/h\"\n",
    " \n",
    " \n",
    "araba1 = Araba()\n",
    "araba2 = Araba(\"Ford\",\"Beyaz\",\"14 AAA 14\",131)\n",
    "print(\"------Araba 1 ------\")\n",
    "print(araba1.marka)\n",
    "print(araba1.renk)\n",
    "print(araba1.plaka)\n",
    "print(araba1.hiz)\n",
    "print()\n",
    "print()\n",
    "print(\"-----Araba 2 -------\")\n",
    "print(araba2.marka)\n",
    "print(araba2.renk)\n",
    "print(araba2.plaka)\n",
    "print(araba2.hiz)"
   ]
  },
  {
   "cell_type": "code",
   "execution_count": 48,
   "metadata": {},
   "outputs": [
    {
     "name": "stdout",
     "output_type": "stream",
     "text": [
      "------Araba 1 ------\n",
      "Toyota\n",
      "Gray\n",
      "01 AAA 01\n",
      "73 km/h\n",
      "\n",
      "\n",
      "-----Araba 2 -------\n",
      "Ford\n",
      "Beyaz\n",
      "14 AAA 14\n",
      "131 km/h\n"
     ]
    }
   ],
   "source": [
    "class Araba:\n",
    "    def __init__(self, marka=\"Toyota\", renk=None, plaka=\"01 AAA 01\", hiz=73):\n",
    "        self.marka = marka\n",
    "        self.renk = renk\n",
    "        self.plaka = plaka\n",
    "        self.hiz = str(hiz) + \" km/h\"\n",
    "\n",
    "\n",
    "araba1 = Araba(renk=\"Gray\")\n",
    "araba2 = Araba(\"Ford\", \"Beyaz\", \"14 AAA 14\", 131)\n",
    "print(\"------Araba 1 ------\")\n",
    "print(araba1.marka)\n",
    "print(araba1.renk)\n",
    "print(araba1.plaka)\n",
    "print(araba1.hiz)\n",
    "print()\n",
    "print()\n",
    "print(\"-----Araba 2 -------\")\n",
    "print(araba2.marka)\n",
    "print(araba2.renk)\n",
    "print(araba2.plaka)\n",
    "print(araba2.hiz)\n"
   ]
  },
  {
   "cell_type": "code",
   "execution_count": null,
   "metadata": {},
   "outputs": [],
   "source": []
  }
 ],
 "metadata": {
  "kernelspec": {
   "display_name": "Python 3.10.5 64-bit",
   "language": "python",
   "name": "python3"
  },
  "language_info": {
   "codemirror_mode": {
    "name": "ipython",
    "version": 3
   },
   "file_extension": ".py",
   "mimetype": "text/x-python",
   "name": "python",
   "nbconvert_exporter": "python",
   "pygments_lexer": "ipython3",
   "version": "3.10.5"
  },
  "orig_nbformat": 4,
  "vscode": {
   "interpreter": {
    "hash": "b885c526da3326e581d3a88563282ab625602807b12d7b4af8a2a7f32a015837"
   }
  }
 },
 "nbformat": 4,
 "nbformat_minor": 2
}
