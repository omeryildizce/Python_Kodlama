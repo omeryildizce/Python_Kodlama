{
 "cells": [
  {
   "cell_type": "markdown",
   "metadata": {},
   "source": [
    "# Kapsülleme (Encapsulation)\n",
    "\n",
    "* Kapsülleme, methotların ve variable’ların erişimlerini kısıtlamak anlamına geliyor. "
   ]
  },
  {
   "cell_type": "code",
   "execution_count": 1,
   "metadata": {},
   "outputs": [
    {
     "name": "stdout",
     "output_type": "stream",
     "text": [
      "İsim :  Ömer\n",
      "Soyisim :  YILDIZ\n",
      "Exam 1 :  74\n",
      "Exam 2 : 80\n"
     ]
    }
   ],
   "source": [
    "class RegisterCourse:     \n",
    "    def __init__(self):\n",
    "        self.name = \"Ömer\"\n",
    "        self.surname = \"YILDIZ\"\n",
    "        self.exam1 = 74\n",
    "        self.exam2 = 80\n",
    "\n",
    "register = RegisterCourse()\n",
    "\n",
    "print(\"İsim : \",register.name)\n",
    "print(\"Soyisim : \",register.surname) \n",
    "print(\"Exam 1 : \",register.exam1)\n",
    "print(\"Exam 2 :\",register.exam2)"
   ]
  },
  {
   "cell_type": "code",
   "execution_count": 2,
   "metadata": {},
   "outputs": [],
   "source": [
    "register.exam1 = 50\n",
    "register.exam2 = 60"
   ]
  },
  {
   "cell_type": "code",
   "execution_count": 3,
   "metadata": {},
   "outputs": [
    {
     "name": "stdout",
     "output_type": "stream",
     "text": [
      "İsim :  Ömer\n",
      "Soyisim :  YILDIZ\n",
      "Exam 1 :  50\n",
      "Exam 2 : 60\n"
     ]
    }
   ],
   "source": [
    "print(\"İsim : \",register.name)\n",
    "print(\"Soyisim : \",register.surname) \n",
    "print(\"Exam 1 : \",register.exam1)\n",
    "print(\"Exam 2 :\",register.exam2)"
   ]
  },
  {
   "cell_type": "markdown",
   "metadata": {},
   "source": [
    "## Encaplusation (Kapsüllem) Kullanımı"
   ]
  },
  {
   "cell_type": "code",
   "execution_count": 6,
   "metadata": {},
   "outputs": [
    {
     "name": "stdout",
     "output_type": "stream",
     "text": [
      "İsim :  Ömer\n",
      "Soyisim :  KAYA\n"
     ]
    }
   ],
   "source": [
    "class RegisterCourse:\n",
    "    def __init__(self):\n",
    "        self.name = \"Ömer\"\n",
    "        self.surname = \"KAYA\"\n",
    "        self.__exam1 = 74\n",
    "        self.__exam2 = 80\n",
    " \n",
    "register = RegisterCourse()\n",
    "print(\"İsim : \",register.name)\n",
    "print(\"Soyisim : \",register.surname)\n",
    "# print(\"Exam 1 : \",register.exam1)\n",
    "# print(\"Exam 2 :\",register.exam2)"
   ]
  },
  {
   "cell_type": "markdown",
   "metadata": {},
   "source": [
    "## Kapsüllenmiş Verilere Dışarıdan Erişim\n"
   ]
  },
  {
   "cell_type": "code",
   "execution_count": 10,
   "metadata": {},
   "outputs": [
    {
     "name": "stdout",
     "output_type": "stream",
     "text": [
      "İsim :  Ömer\n",
      "Soyisim :  Alp\n",
      "Exam 1 :  85\n"
     ]
    }
   ],
   "source": [
    "class RegisterCourse:\n",
    "    def __init__(self):\n",
    "        self.name = \"Ömer\"\n",
    "        self.surname = \"Alp\"\n",
    "        self.__exam1 = 85\n",
    "        self.__exam2 = 65\n",
    "        self.__courses = []\n",
    "\n",
    "    def __add(self, course):\n",
    "        self.courses.append(course)\n",
    "    def getExam1(self):\n",
    "        return self.__exam1\n",
    "register = RegisterCourse()\n",
    "print(\"İsim : \",register.name)\n",
    "print(\"Soyisim : \",register.surname)\n",
    "print(\"Exam 1 : \",register.getExam1())"
   ]
  },
  {
   "cell_type": "code",
   "execution_count": 12,
   "metadata": {},
   "outputs": [
    {
     "name": "stdout",
     "output_type": "stream",
     "text": [
      "İsim :  Ahmet\n",
      "Soyisim :  Kaleli\n",
      "Exam 1 :  40\n"
     ]
    }
   ],
   "source": [
    "class RegisterCourse:\n",
    "    def __init__(self):\n",
    "        self.name = \"Ahmet\"\n",
    "        self.surname = \"Kaleli\"\n",
    "        self.__exam1 = 74\n",
    "        self.__exam2 = 80\n",
    "        self.__courses = []\n",
    " \n",
    "    def __add(self,course):\n",
    "        self.courses.append(course)\n",
    " \n",
    "    def getExam1(self):\n",
    "        return self.__exam1\n",
    " \n",
    "    def setExam1(self, newVal):\n",
    "        self.__exam1 = newVal\n",
    " \n",
    " \n",
    "register = RegisterCourse()\n",
    "register.setExam1(40)\n",
    "print(\"İsim : \",register.name)\n",
    "print(\"Soyisim : \",register.surname)\n",
    "print(\"Exam 1 : \",register.getExam1())"
   ]
  },
  {
   "cell_type": "code",
   "execution_count": 13,
   "metadata": {},
   "outputs": [
    {
     "ename": "ValueError",
     "evalue": "Sınav puanı 0'dan küçük ve 100'den büyük bir  değer olamaz ",
     "output_type": "error",
     "traceback": [
      "\u001b[1;31m---------------------------------------------------------------------------\u001b[0m",
      "\u001b[1;31mValueError\u001b[0m                                Traceback (most recent call last)",
      "\u001b[1;32mc:\\Users\\OmerYildiz\\Desktop\\Python\\Python\\bolum_03\\c04_Kapsulleme.ipynb Cell 10'\u001b[0m in \u001b[0;36m<cell line: 21>\u001b[1;34m()\u001b[0m\n\u001b[0;32m     <a href='vscode-notebook-cell:/c%3A/Users/OmerYildiz/Desktop/Python/Python/bolum_03/c04_Kapsulleme.ipynb#ch0000009?line=16'>17</a>\u001b[0m             \u001b[39mraise\u001b[39;00m \u001b[39mValueError\u001b[39;00m(\u001b[39m\"\u001b[39m\u001b[39mSınav puanı 0\u001b[39m\u001b[39m'\u001b[39m\u001b[39mdan küçük ve 100\u001b[39m\u001b[39m'\u001b[39m\u001b[39mden büyük bir  değer olamaz \u001b[39m\u001b[39m\"\u001b[39m)\n\u001b[0;32m     <a href='vscode-notebook-cell:/c%3A/Users/OmerYildiz/Desktop/Python/Python/bolum_03/c04_Kapsulleme.ipynb#ch0000009?line=19'>20</a>\u001b[0m register \u001b[39m=\u001b[39m RegisterCourse()\n\u001b[1;32m---> <a href='vscode-notebook-cell:/c%3A/Users/OmerYildiz/Desktop/Python/Python/bolum_03/c04_Kapsulleme.ipynb#ch0000009?line=20'>21</a>\u001b[0m register\u001b[39m.\u001b[39;49msetExam(\u001b[39m-\u001b[39;49m\u001b[39m10\u001b[39;49m)\n",
      "\u001b[1;32mc:\\Users\\OmerYildiz\\Desktop\\Python\\Python\\bolum_03\\c04_Kapsulleme.ipynb Cell 10'\u001b[0m in \u001b[0;36mRegisterCourse.setExam\u001b[1;34m(self, newVal)\u001b[0m\n\u001b[0;32m     <a href='vscode-notebook-cell:/c%3A/Users/OmerYildiz/Desktop/Python/Python/bolum_03/c04_Kapsulleme.ipynb#ch0000009?line=14'>15</a>\u001b[0m \u001b[39mdef\u001b[39;00m \u001b[39msetExam\u001b[39m(\u001b[39mself\u001b[39m,newVal):\n\u001b[0;32m     <a href='vscode-notebook-cell:/c%3A/Users/OmerYildiz/Desktop/Python/Python/bolum_03/c04_Kapsulleme.ipynb#ch0000009?line=15'>16</a>\u001b[0m     \u001b[39mif\u001b[39;00m newVal\u001b[39m<\u001b[39m\u001b[39m0\u001b[39m \u001b[39mor\u001b[39;00m newVal\u001b[39m>\u001b[39m\u001b[39m100\u001b[39m :\n\u001b[1;32m---> <a href='vscode-notebook-cell:/c%3A/Users/OmerYildiz/Desktop/Python/Python/bolum_03/c04_Kapsulleme.ipynb#ch0000009?line=16'>17</a>\u001b[0m         \u001b[39mraise\u001b[39;00m \u001b[39mValueError\u001b[39;00m(\u001b[39m\"\u001b[39m\u001b[39mSınav puanı 0\u001b[39m\u001b[39m'\u001b[39m\u001b[39mdan küçük ve 100\u001b[39m\u001b[39m'\u001b[39m\u001b[39mden büyük bir  değer olamaz \u001b[39m\u001b[39m\"\u001b[39m)\n",
      "\u001b[1;31mValueError\u001b[0m: Sınav puanı 0'dan küçük ve 100'den büyük bir  değer olamaz "
     ]
    }
   ],
   "source": [
    "class RegisterCourse:\n",
    "    def __init__(self):\n",
    "        self.name = \"Ahmet\"\n",
    "        self.surname = \"Kaleli\"\n",
    "        self.__exam1 = 74\n",
    "        self.__exam2 = 80\n",
    "        self.__courses = []\n",
    " \n",
    "    def __add(self,course):\n",
    "        self.courses.append(course)\n",
    " \n",
    "    def getExam(self):\n",
    "        return self.__exam1\n",
    " \n",
    "    def setExam(self,newVal):\n",
    "        if newVal<0 or newVal>100 :\n",
    "            raise ValueError(\"Sınav puanı 0'dan küçük ve 100'den büyük bir  değer olamaz \")\n",
    " \n",
    " \n",
    "register = RegisterCourse()\n",
    "register.setExam(-10)"
   ]
  },
  {
   "cell_type": "code",
   "execution_count": null,
   "metadata": {},
   "outputs": [],
   "source": []
  }
 ],
 "metadata": {
  "kernelspec": {
   "display_name": "Python 3.10.5 64-bit",
   "language": "python",
   "name": "python3"
  },
  "language_info": {
   "codemirror_mode": {
    "name": "ipython",
    "version": 3
   },
   "file_extension": ".py",
   "mimetype": "text/x-python",
   "name": "python",
   "nbconvert_exporter": "python",
   "pygments_lexer": "ipython3",
   "version": "3.10.5"
  },
  "orig_nbformat": 4,
  "vscode": {
   "interpreter": {
    "hash": "b885c526da3326e581d3a88563282ab625602807b12d7b4af8a2a7f32a015837"
   }
  }
 },
 "nbformat": 4,
 "nbformat_minor": 2
}
