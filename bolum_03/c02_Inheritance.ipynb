{
 "cells": [
  {
   "cell_type": "markdown",
   "metadata": {},
   "source": [
    "# Inheritance (Miras/Kalıtım)"
   ]
  },
  {
   "cell_type": "code",
   "execution_count": 1,
   "metadata": {},
   "outputs": [],
   "source": [
    "class Akademisyen:\n",
    "    def __init__(self,adi,soyadi,numarasi):\n",
    "        self.adi = adi\n",
    "        self.soyadi = soyadi\n",
    "        self.numarasi = numarasi\n",
    " \n",
    " \n",
    "    def giris(self):\n",
    "        print(\"Giriş Yapıldı\")\n",
    " \n",
    "    def cikis(self):\n",
    "        print(\"Çıkış yapıldı\")\n",
    " \n",
    " \n",
    "class Personel:\n",
    "    def __init__(self, adi, soyadi, numarasi):\n",
    "        self.adi = adi\n",
    "        self.soyadi = soyadi\n",
    "        self.numarasi = numarasi\n",
    " \n",
    "    def giris(self):\n",
    "        print(\"Giriş Yapıldı\")\n",
    " \n",
    "    def cikis(self):\n",
    "        print(\"Çıkış yapıldı\")\n",
    " \n",
    " \n",
    "class Ogrenci:\n",
    "    def __init__(self, adi, soyadi, numarasi):\n",
    "        self.adi = adi\n",
    "        self.soyadi = soyadi\n",
    "        self.numarasi = numarasi\n",
    " \n",
    "    def giris(self):\n",
    "        print(\"Giriş Yapıldı\")\n",
    " \n",
    "    def cikis(self):\n",
    "        print(\"Çıkış yapıldı\")"
   ]
  },
  {
   "cell_type": "markdown",
   "metadata": {},
   "source": [
    "## Miras Alma Kullanımı\n"
   ]
  },
  {
   "cell_type": "code",
   "execution_count": 2,
   "metadata": {},
   "outputs": [],
   "source": [
    "class Kullanici:\n",
    "    def __init__(self, adi, soyadi, numara):\n",
    "        print(\"Kullanıcı sınıfı fonksyonu\")\n",
    "        self.adi = adi\n",
    "        self.soyadi = soyadi\n",
    "        self.numara = numara\n",
    "    def giris(self):\n",
    "        print(\"Giriş Yapıldı\")\n",
    " \n",
    "    def cikis(self):\n",
    "        print(\"Çıkış yapıldı\")\n",
    "\n",
    "class Akademisyen(Kullanici):\n",
    "    pass\n",
    "class Personel(Kullanici):\n",
    "    pass\n",
    "class Ogrenci(Kullanici):\n",
    "    pass"
   ]
  },
  {
   "cell_type": "code",
   "execution_count": 4,
   "metadata": {},
   "outputs": [
    {
     "name": "stdout",
     "output_type": "stream",
     "text": [
      "Kullanıcı sınıfı fonksyonu\n",
      "Kullanıcı sınıfı fonksyonu\n",
      "Kullanıcı sınıfı fonksyonu\n",
      "Akademisyen\n",
      "Ali\n",
      "Uzun\n",
      "18500\n",
      "\n",
      "Personel\n",
      "Ömer\n",
      "Yıldız\n",
      "99170\n",
      "\n",
      "Öğrenci\n",
      "Can\n",
      "Kaya\n",
      "18290001\n"
     ]
    }
   ],
   "source": [
    "akademisyen = Akademisyen(\"Ali\",\"Uzun\",18500)\n",
    "personel = Personel(\"Ömer\",\"Yıldız\",99170)\n",
    "ogrenci = Ogrenci(\"Can\",\"Kaya\",18290001)\n",
    "\n",
    "print(\"Akademisyen\")\n",
    "print(akademisyen.adi)\n",
    "print(akademisyen.soyadi)\n",
    "print(akademisyen.numara)\n",
    "print()\n",
    "print(\"Personel\")\n",
    "print(personel.adi)\n",
    "print(personel.soyadi)\n",
    "print(personel.numara)\n",
    "print()\n",
    "print(\"Öğrenci\")\n",
    "print(ogrenci.adi)\n",
    "print(ogrenci.soyadi)\n",
    "print(ogrenci.numara)\n"
   ]
  },
  {
   "cell_type": "markdown",
   "metadata": {},
   "source": [
    "## Python Overriding\n"
   ]
  },
  {
   "cell_type": "markdown",
   "metadata": {},
   "source": [
    "Yapıcı olan __init__() fonksiyonu oluşturduğumuz sınıfın referansı ve bu fonksiyon otomatik olarak çalışır. Sınıfımızda miras aldığımız fonksiyonun özelliklerini değil yeni özellikleri kullanmak istediğimiz zaman yeni sınıf için __init__() fonksiyonu tanımlarız. "
   ]
  },
  {
   "cell_type": "code",
   "execution_count": 7,
   "metadata": {},
   "outputs": [
    {
     "name": "stdout",
     "output_type": "stream",
     "text": [
      "Akademisyen sınıfı fonksiyonu\n",
      "Mustafa\n",
      "Giriş Yapıldı\n"
     ]
    }
   ],
   "source": [
    "class Kullanici:\n",
    "    def __init__(self,adi,soyadi,numara):\n",
    "        print(\"Kullanıcı sınıfı fonksyonu\")\n",
    "        self.adi = adi\n",
    "        self.soyadi = soyadi\n",
    "        self.numara = numara\n",
    " \n",
    " \n",
    "    def giris(self):\n",
    "        print(\"Giriş Yapıldı\")\n",
    " \n",
    "    def cikis(self):\n",
    "        print(\"Çıkış yapıldı\")\n",
    " \n",
    " \n",
    " \n",
    "class Akademisyen(Kullanici):\n",
    "    def __init__(self,adi,soyadi,numara,dogum_tarihi):\n",
    "        print(\"Akademisyen sınıfı fonksiyonu\")\n",
    "        self.adi= adi\n",
    "        self.soyadi=soyadi\n",
    "        self.numara= numara\n",
    "        self.dugum_tarihi = dogum_tarihi\n",
    " \n",
    "akademisyen = Akademisyen(\"Mustafa\",\"ALP\",100520,1980)\n",
    "print(akademisyen.adi)\n",
    "akademisyen.giris()"
   ]
  },
  {
   "cell_type": "markdown",
   "metadata": {},
   "source": [
    "## super()\n",
    "*  İçinde bulunduğu sınıfın üst bir sınıftan miras alındığını ve oradaki özellikleri kullanabilmenizi sağlıyor."
   ]
  },
  {
   "cell_type": "code",
   "execution_count": 8,
   "metadata": {},
   "outputs": [
    {
     "name": "stdout",
     "output_type": "stream",
     "text": [
      "Akademisyen sınıfı fonksiyonu\n",
      "Kullanıcı sınıfı fonksiyonu\n"
     ]
    }
   ],
   "source": [
    "class Kullanici:\n",
    "    def __init__(self,adi,soyadi,numara):\n",
    "        print(\"Kullanıcı sınıfı fonksiyonu\")\n",
    "        self.adi = adi\n",
    "        self.soyadi = soyadi\n",
    "        self.numara = numara\n",
    " \n",
    " \n",
    "    def giris(self):\n",
    "        print(\"Giriş Yapıldı\")\n",
    " \n",
    "    def cikis(self):\n",
    "        print(\"Çıkış yapıldı\")\n",
    " \n",
    " \n",
    " \n",
    "class Akademisyen(Kullanici):\n",
    "    def __init__(self,adi,soyadi,numara,dogum_tarihi):\n",
    "        print(\"Akademisyen sınıfı fonksiyonu\")\n",
    "        super().__init__(adi,soyadi,numara)\n",
    "        self.dugum_tarihi = dogum_tarihi\n",
    " \n",
    "akademisyen = Akademisyen(\"Ömer\",\"YIDIZ\", 500100,1970)"
   ]
  },
  {
   "cell_type": "code",
   "execution_count": null,
   "metadata": {},
   "outputs": [],
   "source": []
  }
 ],
 "metadata": {
  "kernelspec": {
   "display_name": "Python 3.10.5 64-bit",
   "language": "python",
   "name": "python3"
  },
  "language_info": {
   "codemirror_mode": {
    "name": "ipython",
    "version": 3
   },
   "file_extension": ".py",
   "mimetype": "text/x-python",
   "name": "python",
   "nbconvert_exporter": "python",
   "pygments_lexer": "ipython3",
   "version": "3.10.5"
  },
  "orig_nbformat": 4,
  "vscode": {
   "interpreter": {
    "hash": "b885c526da3326e581d3a88563282ab625602807b12d7b4af8a2a7f32a015837"
   }
  }
 },
 "nbformat": 4,
 "nbformat_minor": 2
}
