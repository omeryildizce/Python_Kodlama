{
 "cells": [
  {
   "cell_type": "markdown",
   "metadata": {},
   "source": [
    "# Koşul İfadeleri"
   ]
  },
  {
   "cell_type": "markdown",
   "metadata": {},
   "source": [
    "## if"
   ]
  },
  {
   "cell_type": "code",
   "execution_count": 1,
   "metadata": {},
   "outputs": [],
   "source": [
    "a = 3\n",
    "b = 5\n",
    "if a == b:\n",
    "    print(\"a ile b birbirine eşittir.\")"
   ]
  },
  {
   "cell_type": "code",
   "execution_count": 2,
   "metadata": {},
   "outputs": [
    {
     "name": "stdout",
     "output_type": "stream",
     "text": [
      "a ile b birbirine eşittir.\n"
     ]
    }
   ],
   "source": [
    "a = 3\n",
    "b = 3\n",
    "if a == b:\n",
    "    a = 3\n",
    "b = 5\n",
    "if a == b:\n",
    "    print(\"a ile b birbirine eşittir.\")"
   ]
  },
  {
   "cell_type": "markdown",
   "metadata": {},
   "source": [
    "## else"
   ]
  },
  {
   "cell_type": "code",
   "execution_count": 5,
   "metadata": {},
   "outputs": [
    {
     "name": "stdout",
     "output_type": "stream",
     "text": [
      "a ile b birbirine eşittir.\n"
     ]
    }
   ],
   "source": [
    "a = 3\n",
    "b = 3\n",
    "if a== b:\n",
    "    print(\"a ile b birbirine eşittir.\")\n",
    "else:\n",
    "    print(\"a ile b birbirine eşit değildir.\")"
   ]
  },
  {
   "cell_type": "code",
   "execution_count": 6,
   "metadata": {},
   "outputs": [
    {
     "name": "stdout",
     "output_type": "stream",
     "text": [
      "a ile b birbirine eşit değildir.\n"
     ]
    }
   ],
   "source": [
    "a = 3\n",
    "b = 7\n",
    "if a== b:\n",
    "    print(\"a ile b birbirine eşittir.\")\n",
    "else:\n",
    "    print(\"a ile b birbirine eşit değildir.\")"
   ]
  },
  {
   "cell_type": "code",
   "execution_count": 7,
   "metadata": {},
   "outputs": [
    {
     "name": "stdout",
     "output_type": "stream",
     "text": [
      "Başarılı bir şekilde giriş yaptınız.\n"
     ]
    }
   ],
   "source": [
    "parolam = \"python\"\n",
    "\n",
    "parola = input(\"Parolayı giriniz.\")\n",
    "\n",
    "if parola == parolam:\n",
    "    print(\"Başarılı bir şekilde giriş yaptınız.\")\n",
    "else:\n",
    "    print(\"Hatalı giriş yaptınız.\")"
   ]
  },
  {
   "cell_type": "markdown",
   "metadata": {},
   "source": [
    "Soru: Harf notu Hesaplama Programı"
   ]
  },
  {
   "cell_type": "code",
   "execution_count": 13,
   "metadata": {},
   "outputs": [
    {
     "name": "stdout",
     "output_type": "stream",
     "text": [
      "ortalama: 67.6 Harf Notu: C\n"
     ]
    }
   ],
   "source": [
    "vizeNotu = int(input(\"Vize Notunuz: \"))\n",
    "finalNotu = int(input(\"Final Notunuz: \"))\n",
    "\n",
    "ortalama = vizeNotu * 0.4 + finalNotu * 0.6\n",
    "\n",
    "if ortalama >= 0 and ortalama <= 100:\n",
    "    if ortalama >= 90:\n",
    "        print(\"ortalama: {} Harf Notu: {}\".format(ortalama, \"A\"))\n",
    "    elif ortalama >= 75:\n",
    "        print(\"ortalama: {} Harf Notu: {}\".format(ortalama, \"B\"))\n",
    "    elif ortalama >= 60:\n",
    "        print(\"ortalama: {} Harf Notu: {}\".format(ortalama, \"C\"))\n",
    "    else:\n",
    "        print(\"ortalama: {} Harf Notu: {}\".format(ortalama, \"F\"))"
   ]
  },
  {
   "cell_type": "code",
   "execution_count": null,
   "metadata": {},
   "outputs": [],
   "source": []
  }
 ],
 "metadata": {
  "kernelspec": {
   "display_name": "Python 3.10.5 64-bit",
   "language": "python",
   "name": "python3"
  },
  "language_info": {
   "codemirror_mode": {
    "name": "ipython",
    "version": 3
   },
   "file_extension": ".py",
   "mimetype": "text/x-python",
   "name": "python",
   "nbconvert_exporter": "python",
   "pygments_lexer": "ipython3",
   "version": "3.10.5"
  },
  "orig_nbformat": 4,
  "vscode": {
   "interpreter": {
    "hash": "b885c526da3326e581d3a88563282ab625602807b12d7b4af8a2a7f32a015837"
   }
  }
 },
 "nbformat": 4,
 "nbformat_minor": 2
}
