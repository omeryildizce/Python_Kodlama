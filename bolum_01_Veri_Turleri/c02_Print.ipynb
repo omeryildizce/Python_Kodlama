{
 "cells": [
  {
   "cell_type": "markdown",
   "metadata": {},
   "source": [
    "# Print Fonksiyonu"
   ]
  },
  {
   "cell_type": "markdown",
   "metadata": {},
   "source": [
    "1. Tek tırnak (‘ ‘)\n",
    "2. Çift tırnak (” “)\n",
    "3. Üç tırnak (“”” “””)"
   ]
  },
  {
   "cell_type": "code",
   "execution_count": 1,
   "metadata": {},
   "outputs": [
    {
     "name": "stdout",
     "output_type": "stream",
     "text": [
      "Merhaba dünya!\n",
      "Merhaba dünya!\n",
      "Merhaba dünya!\n"
     ]
    }
   ],
   "source": [
    "print('Merhaba dünya!')\n",
    "print(\"Merhaba dünya!\")\n",
    "print(\"\"\"Merhaba dünya!\"\"\")"
   ]
  },
  {
   "cell_type": "markdown",
   "metadata": {},
   "source": [
    "## Print Fonksiyonunun Parametreleri"
   ]
  },
  {
   "cell_type": "markdown",
   "metadata": {},
   "source": [
    "### end Parametresi"
   ]
  },
  {
   "cell_type": "code",
   "execution_count": 2,
   "metadata": {},
   "outputs": [
    {
     "name": "stdout",
     "output_type": "stream",
     "text": [
      "Ömer YILDIZ\n",
      "Ömer YILDIZ\n"
     ]
    }
   ],
   "source": [
    "print(\"Ömer YILDIZ\")\n",
    "print(\"Ömer YILDIZ\")"
   ]
  },
  {
   "cell_type": "code",
   "execution_count": 3,
   "metadata": {},
   "outputs": [
    {
     "name": "stdout",
     "output_type": "stream",
     "text": [
      "Ömer YILDIZÖmer YILDIZ\n"
     ]
    }
   ],
   "source": [
    "print(\"Ömer YILDIZ\", end=\"\")\n",
    "print(\"Ömer YILDIZ\")"
   ]
  },
  {
   "cell_type": "code",
   "execution_count": 5,
   "metadata": {},
   "outputs": [
    {
     "name": "stdout",
     "output_type": "stream",
     "text": [
      "Ömer YILDIZ, Ömer YILDIZ\n"
     ]
    }
   ],
   "source": [
    "print(\"Ömer YILDIZ\", end=\", \")\n",
    "print(\"Ömer YILDIZ\")"
   ]
  },
  {
   "cell_type": "code",
   "execution_count": 6,
   "metadata": {},
   "outputs": [
    {
     "name": "stdout",
     "output_type": "stream",
     "text": [
      "Ömer YILDIZ\n",
      "Ömer YILDIZ\n"
     ]
    }
   ],
   "source": [
    "print(\"Ömer YILDIZ\", end=\"\\n\")\n",
    "print(\"Ömer YILDIZ\")"
   ]
  },
  {
   "cell_type": "markdown",
   "metadata": {},
   "source": [
    "### sep Parametresi"
   ]
  },
  {
   "cell_type": "code",
   "execution_count": 8,
   "metadata": {},
   "outputs": [
    {
     "name": "stdout",
     "output_type": "stream",
     "text": [
      "www google com\n"
     ]
    }
   ],
   "source": [
    "print(\"www\",\"google\",\"com\")"
   ]
  },
  {
   "cell_type": "code",
   "execution_count": 12,
   "metadata": {},
   "outputs": [
    {
     "name": "stdout",
     "output_type": "stream",
     "text": [
      "www.google.com\n"
     ]
    }
   ],
   "source": [
    "print(\"www\",\"google\",\"com\", sep=\".\")"
   ]
  },
  {
   "cell_type": "code",
   "execution_count": 13,
   "metadata": {},
   "outputs": [
    {
     "name": "stdout",
     "output_type": "stream",
     "text": [
      "www-google-com\n"
     ]
    }
   ],
   "source": [
    "print(\"www\",\"google\",\"com\", sep=\"-\")"
   ]
  },
  {
   "cell_type": "markdown",
   "metadata": {},
   "source": [
    "### Star(*) Parametresi"
   ]
  },
  {
   "cell_type": "code",
   "execution_count": 15,
   "metadata": {},
   "outputs": [
    {
     "name": "stdout",
     "output_type": "stream",
     "text": [
      "Ömer YILDIZ\n",
      "Ö m e r   Y I L D I Z\n"
     ]
    }
   ],
   "source": [
    "print(\"Ömer YILDIZ\")\n",
    "print(*\"Ömer YILDIZ\")"
   ]
  },
  {
   "cell_type": "code",
   "execution_count": null,
   "metadata": {},
   "outputs": [],
   "source": []
  }
 ],
 "metadata": {
  "kernelspec": {
   "display_name": "Python 3.10.5 64-bit",
   "language": "python",
   "name": "python3"
  },
  "language_info": {
   "codemirror_mode": {
    "name": "ipython",
    "version": 3
   },
   "file_extension": ".py",
   "mimetype": "text/x-python",
   "name": "python",
   "nbconvert_exporter": "python",
   "pygments_lexer": "ipython3",
   "version": "3.10.5"
  },
  "orig_nbformat": 4,
  "vscode": {
   "interpreter": {
    "hash": "b885c526da3326e581d3a88563282ab625602807b12d7b4af8a2a7f32a015837"
   }
  }
 },
 "nbformat": 4,
 "nbformat_minor": 2
}
