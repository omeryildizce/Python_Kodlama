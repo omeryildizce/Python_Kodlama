{
 "cells": [
  {
   "cell_type": "markdown",
   "metadata": {},
   "source": [
    "# Hata Türleri\n",
    "1. Programcı Hatası(Error)\n",
    "2. Program Kusurları veya Mantık Hatası(Bug)\n",
    "3. İstisnalar(Exception)"
   ]
  },
  {
   "cell_type": "markdown",
   "metadata": {},
   "source": [
    "## Programcı Hatası(Error)\n"
   ]
  },
  {
   "cell_type": "code",
   "execution_count": 1,
   "metadata": {},
   "outputs": [
    {
     "ename": "SyntaxError",
     "evalue": "Missing parentheses in call to 'print'. Did you mean print(...)? (1584715282.py, line 1)",
     "output_type": "error",
     "traceback": [
      "\u001b[1;36m  Input \u001b[1;32mIn [1]\u001b[1;36m\u001b[0m\n\u001b[1;33m    print \"Python Dersleri\"\u001b[0m\n\u001b[1;37m    ^\u001b[0m\n\u001b[1;31mSyntaxError\u001b[0m\u001b[1;31m:\u001b[0m Missing parentheses in call to 'print'. Did you mean print(...)?\n"
     ]
    }
   ],
   "source": [
    "print \"Python Dersleri\""
   ]
  },
  {
   "cell_type": "markdown",
   "metadata": {},
   "source": [
    "## Program Hatası veya Mantık Hatası(Bug)\n"
   ]
  },
  {
   "cell_type": "code",
   "execution_count": 3,
   "metadata": {},
   "outputs": [
    {
     "name": "stdout",
     "output_type": "stream",
     "text": [
      "Dairenin Yarıçapı : 172.14\n"
     ]
    }
   ],
   "source": [
    "r= int(input(\"Yarıçapı Girin :\")) # 13\n",
    "pi =3.14\n",
    "alan = pi+(r**2)\n",
    "print(\"Dairenin Yarıçapı :\",alan) "
   ]
  },
  {
   "cell_type": "markdown",
   "metadata": {},
   "source": [
    "##  İstisnalar(Exception)\n"
   ]
  },
  {
   "cell_type": "markdown",
   "metadata": {},
   "source": [
    "10 / 0 \n",
    "* ZeroDivisionError: division by zero"
   ]
  },
  {
   "cell_type": "markdown",
   "metadata": {},
   "source": [
    "## Try…  except…\n"
   ]
  },
  {
   "cell_type": "code",
   "execution_count": 8,
   "metadata": {},
   "outputs": [
    {
     "name": "stdout",
     "output_type": "stream",
     "text": [
      "Sonuç: 1.25\n"
     ]
    }
   ],
   "source": [
    "sayi1 = int(input(\"Birinci Sayıyı Giriniz.\")) # 5\n",
    "sayi2 = int(input(\"İkinci Sayıyı Giriniz.\")) # 4\n",
    "\n",
    "try:\n",
    "    sonuc = sayi1 /sayi2\n",
    "    print(\"Sonuç:\", sonuc)\n",
    "\n",
    "except ZeroDivisionError:\n",
    "    print(\"Bir sayıyı sıfıra bölemezsiniz.\")\n",
    "\n"
   ]
  },
  {
   "cell_type": "code",
   "execution_count": 9,
   "metadata": {},
   "outputs": [
    {
     "name": "stdout",
     "output_type": "stream",
     "text": [
      "Bir sayıyı sıfıra bölemezsiniz.\n"
     ]
    }
   ],
   "source": [
    "sayi1 = int(input(\"Birinci Sayıyı Giriniz.\")) # 10\n",
    "sayi2 = int(input(\"İkinci Sayıyı Giriniz.\")) # 0\n",
    "\n",
    "try:\n",
    "    sonuc = sayi1 /sayi2\n",
    "    print(\"Sonuç:\", sonuc)\n",
    "\n",
    "except ZeroDivisionError:\n",
    "    print(\"Bir sayıyı sıfıra bölemezsiniz.\")\n",
    "\n"
   ]
  },
  {
   "cell_type": "code",
   "execution_count": 12,
   "metadata": {},
   "outputs": [
    {
     "name": "stdout",
     "output_type": "stream",
     "text": [
      "Geçerli değerler giriniz.\n"
     ]
    }
   ],
   "source": [
    "try:\n",
    "    sayi1 = int(input(\"Birinci Sayıyı Giriniz.\")) # 10\n",
    "    sayi2 = int(input(\"İkinci Sayıyı Giriniz.\")) # dd\n",
    "    sonuc = sayi1 /sayi2\n",
    "    print(\"Sonuç:\", sonuc)\n",
    "\n",
    "except (ZeroDivisionError, ValueError):\n",
    "    print(\"Geçerli değerler giriniz.\")\n",
    "\n"
   ]
  },
  {
   "cell_type": "code",
   "execution_count": 13,
   "metadata": {},
   "outputs": [
    {
     "name": "stdout",
     "output_type": "stream",
     "text": [
      "Bir sayıyı sıfıra bölemezsiniz.\n"
     ]
    }
   ],
   "source": [
    "try:\n",
    "    sayi1 = int(input(\"Birinci Sayıyı Giriniz.\")) # 10\n",
    "    sayi2 = int(input(\"İkinci Sayıyı Giriniz.\"))  # 0\n",
    "    sonuc = sayi1 /sayi2\n",
    "    print(\"Sonuç:\", sonuc)\n",
    "\n",
    "except (ZeroDivisionError ):\n",
    "    print(\"Bir sayıyı sıfıra bölemezsiniz.\")\n",
    "\n",
    "except ( ValueError):\n",
    "    print(\"Geçerli değerler giriniz.\")\n",
    "\n"
   ]
  },
  {
   "cell_type": "code",
   "execution_count": 20,
   "metadata": {},
   "outputs": [
    {
     "name": "stdout",
     "output_type": "stream",
     "text": [
      "Geçerli değerler giriniz.\n"
     ]
    }
   ],
   "source": [
    "try:\n",
    "    sayi1 = int(input(\"Birinci Sayıyı Giriniz.\")) # aa\n",
    "    sayi2 = int(input(\"İkinci Sayıyı Giriniz.\"))  # 0\n",
    "    sonuc = sayi1 /sayi2\n",
    "    print(\"Sonuç:\", sonuc)\n",
    "\n",
    "except (ZeroDivisionError ):\n",
    "    print(\"Bir sayıyı sıfıra bölemezsiniz.\")\n",
    "\n",
    "except ( ValueError):\n",
    "    print(\"Geçerli değerler giriniz.\")\n",
    "\n"
   ]
  },
  {
   "cell_type": "code",
   "execution_count": 24,
   "metadata": {},
   "outputs": [
    {
     "name": "stdout",
     "output_type": "stream",
     "text": [
      "Geçerli değerler giriniz.\n"
     ]
    }
   ],
   "source": [
    "try:\n",
    "    sayi1 = int(input(\"Birinci Sayıyı Giriniz.\")) \n",
    "    sayi2 = int(input(\"İkinci Sayıyı Giriniz.\"))  \n",
    "    sonuc = sayi1 /sayi2\n",
    "    print(\"Sonuç:\", sonuc)\n",
    "\n",
    "except (ZeroDivisionError ):\n",
    "    print(\"Bir sayıyı sıfıra bölemezsiniz.\")\n",
    "\n",
    "except ( ValueError):\n",
    "    print(\"Geçerli değerler giriniz.\")\n",
    "\n",
    "except:\n",
    "    print(\"Beklenmeyan bir hata oldu.\")\n",
    "\n"
   ]
  },
  {
   "cell_type": "code",
   "execution_count": 25,
   "metadata": {},
   "outputs": [
    {
     "name": "stdout",
     "output_type": "stream",
     "text": [
      "division by zero\n"
     ]
    }
   ],
   "source": [
    "try:\n",
    "\n",
    "    sayi1 = int(input(\"Birinci Sayı :\"))\n",
    "    sayi2 = int(input(\"İkinci Sayı :\"))\n",
    "    sonuc = sayi1/sayi2\n",
    "    print(\"Sonuc :\",sonuc)\n",
    "\n",
    "except ZeroDivisionError  as acıklama:\n",
    "    print(acıklama)\n"
   ]
  },
  {
   "cell_type": "markdown",
   "metadata": {},
   "source": [
    "### try… except… finally"
   ]
  },
  {
   "cell_type": "code",
   "execution_count": 27,
   "metadata": {},
   "outputs": [],
   "source": [
    "try:\n",
    "   dosya = open(\"c11_hata.ipynb\", \"r\")\n",
    "except IOError:\n",
    "   print(\"bir hata oluştu!\")\n",
    "finally:\n",
    "   dosya.close()"
   ]
  },
  {
   "cell_type": "markdown",
   "metadata": {},
   "source": [
    "### Raise:\n",
    "Herhangi bir hatayı sistem hatası gibi gösterebiliriz.\n"
   ]
  },
  {
   "cell_type": "code",
   "execution_count": null,
   "metadata": {},
   "outputs": [],
   "source": [
    "yari_cap = int(input(\"Yarıçapı girin :\"))\n",
    "pi=3.14\n",
    "if yari_cap <= 0:\n",
    "    raise ValueError(\"Yarıçap sıfır ve sıfırdan küçük bir değer olamaz\")\n",
    " \n",
    "sonuc =pi*(yari_cap**2)\n",
    "print(\"Yarıçap :{}'dir\".format(sonuc))"
   ]
  },
  {
   "cell_type": "markdown",
   "metadata": {},
   "source": [
    "* ValueError: Yarıçap sıfır ve sıfırdan küçük bir değer olamaz"
   ]
  },
  {
   "cell_type": "code",
   "execution_count": null,
   "metadata": {},
   "outputs": [],
   "source": []
  }
 ],
 "metadata": {
  "kernelspec": {
   "display_name": "Python 3.10.5 64-bit",
   "language": "python",
   "name": "python3"
  },
  "language_info": {
   "codemirror_mode": {
    "name": "ipython",
    "version": 3
   },
   "file_extension": ".py",
   "mimetype": "text/x-python",
   "name": "python",
   "nbconvert_exporter": "python",
   "pygments_lexer": "ipython3",
   "version": "3.10.5"
  },
  "orig_nbformat": 4,
  "vscode": {
   "interpreter": {
    "hash": "b885c526da3326e581d3a88563282ab625602807b12d7b4af8a2a7f32a015837"
   }
  }
 },
 "nbformat": 4,
 "nbformat_minor": 2
}
