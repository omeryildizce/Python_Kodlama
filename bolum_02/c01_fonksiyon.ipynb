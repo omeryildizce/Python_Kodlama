{
 "cells": [
  {
   "cell_type": "markdown",
   "metadata": {},
   "source": [
    "# Fonksiyon"
   ]
  },
  {
   "cell_type": "code",
   "execution_count": 6,
   "metadata": {},
   "outputs": [],
   "source": [
    "def yazdir():\n",
    "    print(\"Ömer YILDIZ\")\n"
   ]
  },
  {
   "cell_type": "code",
   "execution_count": 7,
   "metadata": {},
   "outputs": [
    {
     "name": "stdout",
     "output_type": "stream",
     "text": [
      "Ömer YILDIZ\n"
     ]
    }
   ],
   "source": [
    "yazdir()\n"
   ]
  },
  {
   "cell_type": "code",
   "execution_count": 8,
   "metadata": {},
   "outputs": [
    {
     "name": "stdout",
     "output_type": "stream",
     "text": [
      "Ömer YILDIZ\n",
      "Ömer YILDIZ\n",
      "Ömer YILDIZ\n"
     ]
    }
   ],
   "source": [
    "yazdir()\n",
    "yazdir()\n",
    "yazdir()\n"
   ]
  },
  {
   "cell_type": "markdown",
   "metadata": {},
   "source": [
    "## Return"
   ]
  },
  {
   "cell_type": "code",
   "execution_count": 9,
   "metadata": {},
   "outputs": [],
   "source": [
    "def yazdir():\n",
    "    return \"Ömer YILDIZ\"\n"
   ]
  },
  {
   "cell_type": "code",
   "execution_count": 12,
   "metadata": {},
   "outputs": [
    {
     "data": {
      "text/plain": [
       "'Ömer YILDIZ'"
      ]
     },
     "execution_count": 12,
     "metadata": {},
     "output_type": "execute_result"
    }
   ],
   "source": [
    "isim = yazdir()\n",
    "isim\n"
   ]
  },
  {
   "cell_type": "code",
   "execution_count": 13,
   "metadata": {},
   "outputs": [
    {
     "name": "stdout",
     "output_type": "stream",
     "text": [
      "Ömer YILDIZ\n"
     ]
    }
   ],
   "source": [
    "print(yazdir())\n"
   ]
  },
  {
   "cell_type": "code",
   "execution_count": 14,
   "metadata": {},
   "outputs": [
    {
     "data": {
      "text/plain": [
       "30"
      ]
     },
     "execution_count": 14,
     "metadata": {},
     "output_type": "execute_result"
    }
   ],
   "source": [
    "def toplama(sayi1, sayi2):\n",
    "    return sayi1 + sayi2\n",
    "\n",
    "\n",
    "toplama(5, 25)\n"
   ]
  },
  {
   "cell_type": "code",
   "execution_count": 15,
   "metadata": {},
   "outputs": [
    {
     "data": {
      "text/plain": [
       "0"
      ]
     },
     "execution_count": 15,
     "metadata": {},
     "output_type": "execute_result"
    }
   ],
   "source": [
    "# default\n",
    "def toplama(sayi1=0, sayi2=0):\n",
    "    return sayi1 + sayi2\n",
    "\n",
    "\n",
    "toplama()\n"
   ]
  },
  {
   "cell_type": "code",
   "execution_count": 16,
   "metadata": {},
   "outputs": [
    {
     "data": {
      "text/plain": [
       "6"
      ]
     },
     "execution_count": 16,
     "metadata": {},
     "output_type": "execute_result"
    }
   ],
   "source": [
    "toplama(6)\n"
   ]
  },
  {
   "cell_type": "code",
   "execution_count": 17,
   "metadata": {},
   "outputs": [
    {
     "data": {
      "text/plain": [
       "10"
      ]
     },
     "execution_count": 17,
     "metadata": {},
     "output_type": "execute_result"
    }
   ],
   "source": [
    "toplama(6, 4)\n"
   ]
  },
  {
   "cell_type": "code",
   "execution_count": 18,
   "metadata": {},
   "outputs": [
    {
     "data": {
      "text/plain": [
       "30"
      ]
     },
     "execution_count": 18,
     "metadata": {},
     "output_type": "execute_result"
    }
   ],
   "source": [
    "def toplama(sayi1=0, sayi2=0):\n",
    "    return sayi1 + sayi2\n",
    "\n",
    "\n",
    "sayi1 = int(input(\"1. sayıyı giriniz: \"))\n",
    "sayi2 = int(input(\"2. sayıyı giriniz: \"))\n",
    "\n",
    "toplama(sayi1=sayi1, sayi2=sayi2)\n"
   ]
  },
  {
   "cell_type": "code",
   "execution_count": 1,
   "metadata": {},
   "outputs": [],
   "source": [
    "def toplama(sayi1=0, sayi2=0):\n",
    "    return sayi1 + sayi2\n",
    "\n",
    "\n",
    "def cikarma(sayi1=0, sayi2=0):\n",
    "    return sayi1 - sayi2\n",
    "\n",
    "\n",
    "def carpma(sayi1=0, sayi2=1):\n",
    "    return sayi1 * sayi2\n",
    "\n",
    "\n",
    "def bolme(sayi1=0, sayi2=1):\n",
    "    return sayi1 / sayi2\n"
   ]
  },
  {
   "cell_type": "code",
   "execution_count": 2,
   "metadata": {},
   "outputs": [],
   "source": [
    "def degerGir():\n",
    "    sayi1 = int(input(\"Birinci sayıyı girin :\"))\n",
    "    sayi2 = int(input(\"İkinci sayıyı girin :\"))\n",
    "    return sayi1, sayi2\n"
   ]
  },
  {
   "cell_type": "code",
   "execution_count": 4,
   "metadata": {},
   "outputs": [
    {
     "name": "stdout",
     "output_type": "stream",
     "text": [
      "\n",
      "            Toplama :1\n",
      "            Çıkarma :2\n",
      "            Çarpma  :3\n",
      "            Bölme   :4\n",
      "            Çıkış   :q  \n",
      "221\n",
      "\n",
      "            Toplama :1\n",
      "            Çıkarma :2\n",
      "            Çarpma  :3\n",
      "            Bölme   :4\n",
      "            Çıkış   :q  \n",
      "2.5\n",
      "\n",
      "            Toplama :1\n",
      "            Çıkarma :2\n",
      "            Çarpma  :3\n",
      "            Bölme   :4\n",
      "            Çıkış   :q  \n"
     ]
    }
   ],
   "source": [
    "while True:\n",
    "    print(\"\"\"\n",
    "            Toplama :1\n",
    "            Çıkarma :2\n",
    "            Çarpma  :3\n",
    "            Bölme   :4\n",
    "            Çıkış   :q  \"\"\")\n",
    "    secim = input(\"Bir Seçim Yapın :\")\n",
    "    if secim == \"q\":\n",
    "        break\n",
    "\n",
    "    elif secim == \"1\":\n",
    "        sayi1, sayi2 = degerGir()\n",
    "        print(toplama(sayi1, sayi2))\n",
    "    elif secim == \"2\":\n",
    "        sayi1, sayi2 = degerGir()\n",
    "        print(cikarma(sayi1, sayi2))\n",
    "    elif secim == \"3\":\n",
    "        sayi1, sayi2 = degerGir()\n",
    "        print(carpma(sayi1, sayi2))\n",
    "    elif secim == \"4\":\n",
    "        sayi1, sayi2 = degerGir()\n",
    "        print(bolme(sayi1, sayi2))\n",
    "    else:\n",
    "        print(\"Yanlış seçim lütfen tekrar deneyin\")\n",
    "        break\n"
   ]
  },
  {
   "cell_type": "markdown",
   "metadata": {},
   "source": [
    "## Fonksiyon İçinde Fonksiyon\n"
   ]
  },
  {
   "cell_type": "code",
   "execution_count": 22,
   "metadata": {},
   "outputs": [],
   "source": [
    "def ortHesapla(liste):\n",
    "    ort = sum(liste) / len(liste)\n",
    "    return ort\n",
    "\n",
    "\n",
    "def standartHesapla(liste):\n",
    "    standartKarekok = []\n",
    "    for i in range(len(liste)):\n",
    "        standartKarekok.append((liste[i]-ortHesapla(liste))**2)\n",
    "    standartSapma = (sum(standartKarekok)/len(liste)-1)**0.5\n",
    "    return standartSapma\n"
   ]
  },
  {
   "cell_type": "code",
   "execution_count": 29,
   "metadata": {},
   "outputs": [
    {
     "name": "stdout",
     "output_type": "stream",
     "text": [
      "Standart Sapma: 11.25\n"
     ]
    }
   ],
   "source": [
    "liste = [22, 23, 20, 14, 32, 2, 40]\n",
    "print(\"Standart Sapma: {0:.2f}\".format(standartHesapla(liste)))\n"
   ]
  },
  {
   "cell_type": "markdown",
   "metadata": {},
   "source": [
    "## Recursive (Özyineli) Fonksiyonlar :\n"
   ]
  },
  {
   "cell_type": "code",
   "execution_count": 5,
   "metadata": {},
   "outputs": [
    {
     "name": "stdout",
     "output_type": "stream",
     "text": [
      "2178309\n"
     ]
    }
   ],
   "source": [
    "def fibonacci(sayi):\n",
    "    if sayi == 0:\n",
    "        return 0\n",
    "\n",
    "    if sayi == 1:\n",
    "        return 1\n",
    "\n",
    "    return fibonacci(sayi - 1) + fibonacci(sayi - 2)\n",
    "\n",
    "sayi = int(input(\"Bir sayı gir: \"))\n",
    "print(fibonacci(sayi))"
   ]
  },
  {
   "cell_type": "code",
   "execution_count": null,
   "metadata": {},
   "outputs": [],
   "source": []
  },
  {
   "cell_type": "code",
   "execution_count": null,
   "metadata": {},
   "outputs": [],
   "source": []
  }
 ],
 "metadata": {
  "kernelspec": {
   "display_name": "Python 3.10.5 64-bit",
   "language": "python",
   "name": "python3"
  },
  "language_info": {
   "codemirror_mode": {
    "name": "ipython",
    "version": 3
   },
   "file_extension": ".py",
   "mimetype": "text/x-python",
   "name": "python",
   "nbconvert_exporter": "python",
   "pygments_lexer": "ipython3",
   "version": "3.10.5"
  },
  "orig_nbformat": 4,
  "vscode": {
   "interpreter": {
    "hash": "b885c526da3326e581d3a88563282ab625602807b12d7b4af8a2a7f32a015837"
   }
  }
 },
 "nbformat": 4,
 "nbformat_minor": 2
}
