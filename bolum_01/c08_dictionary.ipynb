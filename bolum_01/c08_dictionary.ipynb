{
 "cells": [
  {
   "cell_type": "markdown",
   "metadata": {},
   "source": [
    "# Dictionary"
   ]
  },
  {
   "cell_type": "code",
   "execution_count": 4,
   "metadata": {},
   "outputs": [
    {
     "data": {
      "text/plain": [
       "'Computer'"
      ]
     },
     "execution_count": 4,
     "metadata": {},
     "output_type": "execute_result"
    }
   ],
   "source": [
    "kelime = input(\"İngilizce Kelime girin :\")\n",
    " \n",
    "sozluk ={\"Computer\":\"Bilgisayar\",\"Driver\":\"Sürücü\",\"Memory\":\"Hafıza\",\n",
    "\"Output\":\"Çıktı\",\"Software\":\"Yazılım\",\"Printer\":\"Yazıcı\"}\n",
    "kelime"
   ]
  },
  {
   "cell_type": "code",
   "execution_count": 5,
   "metadata": {},
   "outputs": [
    {
     "data": {
      "text/plain": [
       "'Bilgisayar'"
      ]
     },
     "execution_count": 5,
     "metadata": {},
     "output_type": "execute_result"
    }
   ],
   "source": [
    "sozluk[kelime]"
   ]
  },
  {
   "cell_type": "markdown",
   "metadata": {},
   "source": [
    "## Keys Metodu\n"
   ]
  },
  {
   "cell_type": "code",
   "execution_count": 6,
   "metadata": {},
   "outputs": [
    {
     "name": "stdout",
     "output_type": "stream",
     "text": [
      "dict_keys(['Computer', 'Driver', 'Memory', 'Output', 'Software', 'Printer'])\n"
     ]
    }
   ],
   "source": [
    "sozluk ={\"Computer\":\"Bilgisayar\",\"Driver\":\"Sürücü\",\"Memory\":\"Hafıza\",\n",
    "\"Output\":\"Çıktı\",\"Software\":\"Yazılım\",\"Printer\":\"Yazıcı\"}\n",
    " \n",
    "print(sozluk.keys())\n"
   ]
  },
  {
   "cell_type": "markdown",
   "metadata": {},
   "source": [
    "## Values Metodu\n"
   ]
  },
  {
   "cell_type": "code",
   "execution_count": 7,
   "metadata": {},
   "outputs": [
    {
     "name": "stdout",
     "output_type": "stream",
     "text": [
      "dict_values(['Bilgisayar', 'Sürücü', 'Hafıza', 'Çıktı', 'Yazılım', 'Yazıcı'])\n"
     ]
    }
   ],
   "source": [
    "sozluk ={\"Computer\":\"Bilgisayar\",\n",
    "         \"Driver\":\"Sürücü\",\n",
    "         \"Memory\":\"Hafıza\",\n",
    "         \"Output\":\"Çıktı\",\n",
    "         \"Software\":\"Yazılım\",\n",
    "         \"Printer\":\"Yazıcı\"}\n",
    " \n",
    "print(sozluk.values())"
   ]
  },
  {
   "cell_type": "markdown",
   "metadata": {},
   "source": [
    "## Items Metodu\n"
   ]
  },
  {
   "cell_type": "code",
   "execution_count": 8,
   "metadata": {},
   "outputs": [
    {
     "name": "stdout",
     "output_type": "stream",
     "text": [
      "dict_items([('Computer', 'Bilgisayar'), ('Driver', 'Sürücü'), ('Memory', 'Hafıza'), ('Output', 'Çıktı'), ('Software', 'Yazılım'), ('Printer', 'Yazıcı')])\n"
     ]
    }
   ],
   "source": [
    "sozluk ={\"Computer\":\"Bilgisayar\",\n",
    "         \"Driver\":\"Sürücü\",\n",
    "         \"Memory\":\"Hafıza\",\n",
    "         \"Output\":\"Çıktı\",\n",
    "         \"Software\":\"Yazılım\",\n",
    "         \"Printer\":\"Yazıcı\"}\n",
    " \n",
    "print(sozluk.items())"
   ]
  },
  {
   "cell_type": "markdown",
   "metadata": {},
   "source": [
    "## Get Metodu\n"
   ]
  },
  {
   "cell_type": "code",
   "execution_count": 9,
   "metadata": {},
   "outputs": [
    {
     "name": "stdout",
     "output_type": "stream",
     "text": [
      "Sürücü\n"
     ]
    }
   ],
   "source": [
    "kelime=input(\"Bir kelime girin :\")\n",
    "sozluk ={\"Computer\":\"Bilgisayar\",\n",
    "         \"Driver\":\"Sürücü\",\n",
    "         \"Memory\":\"Hafıza\",\n",
    "         \"Output\":\"Çıktı\",\n",
    "         \"Software\":\"Yazılım\",\n",
    "         \"Printer\":\"Yazıcı\"}\n",
    "         \n",
    "print(sozluk.get(kelime,\"Aradığınız kelime Sözlük içinde bulunmamaktadır\"))\n"
   ]
  },
  {
   "cell_type": "markdown",
   "metadata": {},
   "source": [
    "## Copy Metodu\n"
   ]
  },
  {
   "cell_type": "code",
   "execution_count": 10,
   "metadata": {},
   "outputs": [
    {
     "name": "stdout",
     "output_type": "stream",
     "text": [
      "{'Computer': 'Bilgisayar', 'Driver': 'Sürücü', 'Memory': 'Hafıza', 'Output': 'Çıktı', 'Software': 'Yazılım', 'Printer': 'Yazıcı'}\n"
     ]
    }
   ],
   "source": [
    "sozluk ={\"Computer\":\"Bilgisayar\",\n",
    "         \"Driver\":\"Sürücü\",\n",
    "         \"Memory\":\"Hafıza\",\n",
    "         \"Output\":\"Çıktı\",\n",
    "         \"Software\":\"Yazılım\",\n",
    "         \"Printer\":\"Yazıcı\"}\n",
    " \n",
    "sozluk2= sozluk.copy()\n",
    "print(sozluk2)"
   ]
  },
  {
   "cell_type": "markdown",
   "metadata": {},
   "source": [
    "## Clear Metodu\n"
   ]
  },
  {
   "cell_type": "code",
   "execution_count": 14,
   "metadata": {},
   "outputs": [
    {
     "name": "stdout",
     "output_type": "stream",
     "text": [
      "{}\n"
     ]
    }
   ],
   "source": [
    "sozluk ={\"Computer\":\"Bilgisayar\",\n",
    "\"Driver\":\"Sürücü\",\n",
    "\"Memory\":\"Hafıza\",\n",
    "\"Output\":\"Çıktı\",\n",
    "\"Software\":\"Yazılım\",\n",
    "\"Printer\":\"Yazıcı\"}\n",
    " \n",
    "sozluk.clear()\n",
    "print(sozluk)"
   ]
  },
  {
   "cell_type": "code",
   "execution_count": 15,
   "metadata": {},
   "outputs": [],
   "source": [
    "del sozluk"
   ]
  },
  {
   "cell_type": "code",
   "execution_count": 16,
   "metadata": {},
   "outputs": [
    {
     "name": "stdout",
     "output_type": "stream",
     "text": [
      "{'Driver': 'Sürücü', 'Memory': 'Hafıza', 'Output': 'Çıktı', 'Software': 'Yazılım', 'Printer': 'Yazıcı'}\n"
     ]
    }
   ],
   "source": [
    "sozluk ={\"Computer\":\"Bilgisayar\",\n",
    "         \"Driver\":\"Sürücü\",\n",
    "         \"Memory\":\"Hafıza\",\n",
    "         \"Output\":\"Çıktı\",\n",
    "         \"Software\":\"Yazılım\",\n",
    "         \"Printer\":\"Yazıcı\"}\n",
    " \n",
    " \n",
    "del sozluk[\"Computer\"]\n",
    "print(sozluk)"
   ]
  },
  {
   "cell_type": "markdown",
   "metadata": {},
   "source": [
    "## Pop Metodu\n"
   ]
  },
  {
   "cell_type": "code",
   "execution_count": 17,
   "metadata": {},
   "outputs": [
    {
     "name": "stdout",
     "output_type": "stream",
     "text": [
      "{'Memory': 'Hafıza', 'Output': 'Çıktı', 'Software': 'Yazılım', 'Printer': 'Yazıcı'}\n"
     ]
    }
   ],
   "source": [
    "sozluk ={\"Driver\":\"Sürücü\",\n",
    "         \"Memory\":\"Hafıza\",\n",
    "         \"Output\":\"Çıktı\",\n",
    "         \"Software\":\"Yazılım\",\n",
    "         \"Printer\":\"Yazıcı\"}\n",
    " \n",
    "sozluk.pop(\"Driver\")\n",
    "print(sozluk)"
   ]
  },
  {
   "cell_type": "markdown",
   "metadata": {},
   "source": [
    "## Popitem Metodu\n",
    "* Rastgele bir öğeyi siler."
   ]
  },
  {
   "cell_type": "code",
   "execution_count": 40,
   "metadata": {},
   "outputs": [
    {
     "name": "stdout",
     "output_type": "stream",
     "text": [
      "{'Driver': 'Sürücü', 'Memory': 'Hafıza', 'Output': 'Çıktı', 'Software': 'Yazılım'}\n"
     ]
    }
   ],
   "source": [
    "sozluk ={\"Driver\":\"Sürücü\",\n",
    "         \"Memory\":\"Hafıza\",\n",
    "         \"Output\":\"Çıktı\",\n",
    "         \"Software\":\"Yazılım\",\n",
    "         \"Printer\":\"Yazıcı\"}\n",
    "sozluk.popitem()\n",
    "print(sozluk)"
   ]
  },
  {
   "cell_type": "markdown",
   "metadata": {},
   "source": [
    "## Setdefault Metodu\n",
    "* Aranılan anahtar yoksa ise default değeri gösterir."
   ]
  },
  {
   "cell_type": "code",
   "execution_count": 43,
   "metadata": {},
   "outputs": [
    {
     "name": "stdout",
     "output_type": "stream",
     "text": [
      "dört\n"
     ]
    }
   ],
   "source": [
    "sayilar ={\"1\":\"bir\",\"2\":\"iki\",\"3\":\"üç\",\"4\":\"dört\",\"5\":\"beş\"}\n",
    " \n",
    "print(sayilar.setdefault(\"4\"))"
   ]
  },
  {
   "cell_type": "markdown",
   "metadata": {},
   "source": [
    "## Update Metodu\n"
   ]
  },
  {
   "cell_type": "code",
   "execution_count": 45,
   "metadata": {},
   "outputs": [],
   "source": [
    "liste_1 ={\"Ali\":70,\"Mehmet\":50,\"Kemal\":60,\"Mustafa\":75}"
   ]
  },
  {
   "cell_type": "code",
   "execution_count": 46,
   "metadata": {},
   "outputs": [],
   "source": [
    "liste_2 ={\"Ali\":80,\"Mehmet\":60,\"Kemal\":70,\"Mustafa\":85}"
   ]
  },
  {
   "cell_type": "code",
   "execution_count": 47,
   "metadata": {},
   "outputs": [
    {
     "name": "stdout",
     "output_type": "stream",
     "text": [
      "{'Ali': 80, 'Mehmet': 60, 'Kemal': 70, 'Mustafa': 85}\n"
     ]
    }
   ],
   "source": [
    "liste_1.update(liste_2)\n",
    "print(liste_1)\n"
   ]
  },
  {
   "cell_type": "code",
   "execution_count": null,
   "metadata": {},
   "outputs": [],
   "source": []
  }
 ],
 "metadata": {
  "kernelspec": {
   "display_name": "Python 3.10.5 64-bit",
   "language": "python",
   "name": "python3"
  },
  "language_info": {
   "codemirror_mode": {
    "name": "ipython",
    "version": 3
   },
   "file_extension": ".py",
   "mimetype": "text/x-python",
   "name": "python",
   "nbconvert_exporter": "python",
   "pygments_lexer": "ipython3",
   "version": "3.10.5"
  },
  "orig_nbformat": 4,
  "vscode": {
   "interpreter": {
    "hash": "b885c526da3326e581d3a88563282ab625602807b12d7b4af8a2a7f32a015837"
   }
  }
 },
 "nbformat": 4,
 "nbformat_minor": 2
}
