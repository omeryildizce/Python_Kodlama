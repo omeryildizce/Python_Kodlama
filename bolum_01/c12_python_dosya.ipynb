{
 "cells": [
  {
   "cell_type": "markdown",
   "metadata": {},
   "source": [
    "# Python Dosya Uzantısı\n"
   ]
  },
  {
   "cell_type": "code",
   "execution_count": 1,
   "metadata": {},
   "outputs": [
    {
     "data": {
      "text/plain": [
       "'c:\\\\Users\\\\OmerYildiz\\\\Desktop\\\\Python\\\\Python\\\\bolum_01_Veri_Turleri'"
      ]
     },
     "execution_count": 1,
     "metadata": {},
     "output_type": "execute_result"
    }
   ],
   "source": [
    "import os \n",
    "\n",
    "os.getcwd()"
   ]
  },
  {
   "cell_type": "markdown",
   "metadata": {},
   "source": [
    "<table>\n",
    "\n",
    "<tbody>\n",
    "\n",
    "<tr>\n",
    "\n",
    "<td width=\"47\"><b>r<b/></td>\n",
    "\n",
    "<td width=\"557\">Sadece okumak için bir dosya açar. Dosya işaretçisi, dosyanın başına yerleştirilir. Bu, varsayılan moddur.</td>\n",
    "\n",
    "</tr>\n",
    "\n",
    "<tr>\n",
    "\n",
    "<td width=\"47\"><b>r+<b/></td>\n",
    "\n",
    "<td width=\"557\">Hem okuma hem de yazma için bir dosya açar. Dosya işaretçisi, dosyanın başına yerleştirilir.</td>\n",
    "\n",
    "</tr>\n",
    "\n",
    "<tr>\n",
    "\n",
    "<td width=\"47\"><b>w<b/></td>\n",
    "\n",
    "<td width=\"557\">Sadece yazmak için bir dosya açar. Dosya varsa, dosyanın üzerine yazar. Dosya yoksa yazmak için yeni bir dosya oluşturur.</td>\n",
    "\n",
    "</tr>\n",
    "\n",
    "<tr>\n",
    "\n",
    "<td width=\"47\"><b>w+<b/></td>\n",
    "\n",
    "<td width=\"557\">Yazma ve okuma için bir dosya açar. Dosya varsa var olan dosyanın üzerine yazar. Dosya yoksa okuma ve yazma için yeni bir dosya oluşturur.</td>\n",
    "\n",
    "</tr>\n",
    "\n",
    "<tr>\n",
    "\n",
    "<td width=\"47\"><b>a<b/></td>\n",
    "\n",
    "<td width=\"557\">Eklemek için bir dosya açar. Dosya işaretçisi dosya varsa, dosyanın sonundadır. Yani, dosya ekleme modunda dır. Dosya yoksa yazmak için yeni bir dosya oluşturur.</td>\n",
    "\n",
    "</tr>\n",
    "\n",
    "<tr>\n",
    "\n",
    "<td width=\"47\"><b>a+<b/></td>\n",
    "\n",
    "<td width=\"557\">Hem eklemek hem de okumak için bir dosya açar. Dosya işaretçisi dosya varsa, dosyanın sonundadır. Dosya ekleme modunda açılır. Dosya yoksa, okuma ve yazma için yeni bir dosya oluşturur.</td>\n",
    "\n",
    "</tr>\n",
    "\n",
    "</tbody>\n",
    "\n",
    "</table>"
   ]
  },
  {
   "cell_type": "markdown",
   "metadata": {},
   "source": [
    "## Dosya Yazma"
   ]
  },
  {
   "cell_type": "code",
   "execution_count": 3,
   "metadata": {},
   "outputs": [],
   "source": [
    "dosya = open(\"deneme.txt\",\"w\")\n",
    "dosya.write(\"Hello world!\")\n",
    "dosya.close()"
   ]
  },
  {
   "cell_type": "markdown",
   "metadata": {},
   "source": [
    "### Otomatik dosya kapatma"
   ]
  },
  {
   "cell_type": "code",
   "execution_count": 4,
   "metadata": {},
   "outputs": [],
   "source": [
    "with open(\"deneme.txt\", \"w\") as dosya:\n",
    "    dosya.write(\"Hello world!!!\")"
   ]
  },
  {
   "cell_type": "markdown",
   "metadata": {},
   "source": [
    "### writelines()\n"
   ]
  },
  {
   "cell_type": "code",
   "execution_count": 5,
   "metadata": {},
   "outputs": [],
   "source": [
    "with open(\"deneme.txt\",\"w\") as dosya:\n",
    "    dosya.writelines([\"Merhaba dünya\\n\",\"Python Dersleri Hoşgeldiniz\"])"
   ]
  },
  {
   "cell_type": "markdown",
   "metadata": {},
   "source": [
    "## Dosya Okuma\n"
   ]
  },
  {
   "cell_type": "code",
   "execution_count": 6,
   "metadata": {},
   "outputs": [
    {
     "name": "stdout",
     "output_type": "stream",
     "text": [
      "Merhaba dünya\n",
      "Python Dersleri Hoşgeldiniz\n"
     ]
    }
   ],
   "source": [
    "with open(\"deneme.txt\",\"r\") as dosya:\n",
    "    print(dosya.read()) \n"
   ]
  },
  {
   "cell_type": "markdown",
   "metadata": {},
   "source": [
    "### isfile()\n"
   ]
  },
  {
   "cell_type": "code",
   "execution_count": 7,
   "metadata": {},
   "outputs": [
    {
     "name": "stdout",
     "output_type": "stream",
     "text": [
      "Merhaba dünya\n",
      "Python Dersleri Hoşgeldiniz\n"
     ]
    }
   ],
   "source": [
    "if os.path.isfile(\"deneme.txt\"):\n",
    "    with open(\"deneme.txt\", \"r\") as dosya:\n",
    "        print(dosya.read())\n",
    " \n",
    "else:\n",
    "    print(\"dosya bulunamadı\")"
   ]
  },
  {
   "cell_type": "markdown",
   "metadata": {},
   "source": [
    "### readlines()\n"
   ]
  },
  {
   "cell_type": "code",
   "execution_count": 12,
   "metadata": {},
   "outputs": [
    {
     "name": "stdout",
     "output_type": "stream",
     "text": [
      "['Merhaba dÃ¼nya\\n', 'Python Dersleri HoÅŸgeldiniz']\n"
     ]
    }
   ],
   "source": [
    "import os\n",
    " \n",
    "if os.path.isfile(\"deneme.txt\"):\n",
    "    with open(\"deneme.txt\", \"r\") as dosya:\n",
    "        print(dosya.readlines())\n",
    " \n",
    "else:\n",
    "    print(\"dosya bulunamadı\")"
   ]
  },
  {
   "cell_type": "markdown",
   "metadata": {},
   "source": [
    "### readline()\n"
   ]
  },
  {
   "cell_type": "code",
   "execution_count": 13,
   "metadata": {},
   "outputs": [
    {
     "name": "stdout",
     "output_type": "stream",
     "text": [
      "Merhaba dÃ¼nya\n",
      "\n"
     ]
    }
   ],
   "source": [
    "if os.path.isfile(\"deneme.txt\"):\n",
    "    with open(\"deneme.txt\", \"r\") as dosya:\n",
    "        print(dosya.readline())\n",
    " \n",
    "else:\n",
    "    print(\"dosya bulunamadı\")"
   ]
  },
  {
   "cell_type": "markdown",
   "metadata": {},
   "source": [
    "### seek()"
   ]
  },
  {
   "cell_type": "code",
   "execution_count": 15,
   "metadata": {},
   "outputs": [
    {
     "name": "stdout",
     "output_type": "stream",
     "text": [
      "Ã¼nya\n",
      "Python Dersleri HoÅŸgeldiniz\n"
     ]
    }
   ],
   "source": [
    "if os.path.isfile(\"deneme.txt\"):\n",
    "    with open(\"deneme.txt\") as dosya:\n",
    "        dosya.seek(9)\n",
    "        print(dosya.read())\n",
    "else:\n",
    "    print(\"dosya bulunamadı\")   "
   ]
  },
  {
   "cell_type": "markdown",
   "metadata": {},
   "source": [
    "## Dosya silme\n"
   ]
  },
  {
   "cell_type": "code",
   "execution_count": 16,
   "metadata": {},
   "outputs": [],
   "source": [
    "import os\n",
    "os.remove(\"deneme.txt\")"
   ]
  },
  {
   "cell_type": "code",
   "execution_count": 18,
   "metadata": {},
   "outputs": [],
   "source": [
    "import os\n",
    "os.rmdir(\"klasor\")"
   ]
  },
  {
   "cell_type": "markdown",
   "metadata": {},
   "source": [
    "## Dosyanın Metotları\n"
   ]
  },
  {
   "cell_type": "markdown",
   "metadata": {},
   "source": [
    "### Name\n"
   ]
  },
  {
   "cell_type": "code",
   "execution_count": 20,
   "metadata": {},
   "outputs": [
    {
     "name": "stdout",
     "output_type": "stream",
     "text": [
      "python\n",
      "c\n",
      "c++\n",
      "c#\n",
      "java\n",
      "r\n",
      "dart\n",
      "Dosya İsmi:  deneme.txt\n"
     ]
    }
   ],
   "source": [
    "with open(\"deneme.txt\") as dosya:\n",
    "        print(dosya.read())\n",
    " \n",
    "print(\"Dosya İsmi: \",dosya.name)\n",
    " "
   ]
  },
  {
   "cell_type": "markdown",
   "metadata": {},
   "source": [
    "### Mode\n"
   ]
  },
  {
   "cell_type": "code",
   "execution_count": 21,
   "metadata": {},
   "outputs": [
    {
     "name": "stdout",
     "output_type": "stream",
     "text": [
      "Dosya Modu:  r\n"
     ]
    }
   ],
   "source": [
    "with open(\"deneme.txt\",\"r\") as dosya:\n",
    "    dosya.readline()\n",
    "    print(\"Dosya Modu: \",dosya.mode)"
   ]
  },
  {
   "cell_type": "markdown",
   "metadata": {},
   "source": [
    "### Closed"
   ]
  },
  {
   "cell_type": "code",
   "execution_count": 22,
   "metadata": {},
   "outputs": [
    {
     "name": "stdout",
     "output_type": "stream",
     "text": [
      "Dosya Kapalımı:  True\n"
     ]
    }
   ],
   "source": [
    "with open(\"deneme.txt\",\"r\") as dosya:\n",
    "    dosya.readline()\n",
    " \n",
    "print(\"Dosya Kapalımı: \",dosya.closed)"
   ]
  },
  {
   "cell_type": "markdown",
   "metadata": {},
   "source": [
    "### Writable"
   ]
  },
  {
   "cell_type": "code",
   "execution_count": 23,
   "metadata": {},
   "outputs": [
    {
     "name": "stdout",
     "output_type": "stream",
     "text": [
      "False\n"
     ]
    }
   ],
   "source": [
    "dosya = open(\"deneme.txt\",\"r\")\n",
    "dosya.readline()\n",
    " \n",
    "print(dosya.writable())"
   ]
  },
  {
   "cell_type": "markdown",
   "metadata": {},
   "source": [
    "### Readable"
   ]
  },
  {
   "cell_type": "code",
   "execution_count": 24,
   "metadata": {},
   "outputs": [
    {
     "name": "stdout",
     "output_type": "stream",
     "text": [
      "True\n"
     ]
    }
   ],
   "source": [
    "dosya = open(\"deneme.txt\",\"r\")\n",
    "dosya.readline()\n",
    " \n",
    "print(dosya.readable())"
   ]
  },
  {
   "cell_type": "code",
   "execution_count": null,
   "metadata": {},
   "outputs": [],
   "source": []
  }
 ],
 "metadata": {
  "kernelspec": {
   "display_name": "Python 3.10.5 64-bit",
   "language": "python",
   "name": "python3"
  },
  "language_info": {
   "codemirror_mode": {
    "name": "ipython",
    "version": 3
   },
   "file_extension": ".py",
   "mimetype": "text/x-python",
   "name": "python",
   "nbconvert_exporter": "python",
   "pygments_lexer": "ipython3",
   "version": "3.10.5"
  },
  "orig_nbformat": 4,
  "vscode": {
   "interpreter": {
    "hash": "b885c526da3326e581d3a88563282ab625602807b12d7b4af8a2a7f32a015837"
   }
  }
 },
 "nbformat": 4,
 "nbformat_minor": 2
}
