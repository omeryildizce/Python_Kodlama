{
 "cells": [
  {
   "cell_type": "code",
   "execution_count": 3,
   "metadata": {},
   "outputs": [],
   "source": [
    "import sqlite3\n"
   ]
  },
  {
   "cell_type": "code",
   "execution_count": 4,
   "metadata": {},
   "outputs": [],
   "source": [
    "database_connect = sqlite3.connect(\"sinif.db\")"
   ]
  },
  {
   "cell_type": "code",
   "execution_count": 5,
   "metadata": {},
   "outputs": [],
   "source": [
    "imlec = database_connect.cursor()"
   ]
  },
  {
   "cell_type": "markdown",
   "metadata": {},
   "source": [
    "## CRUD İşlemleri"
   ]
  },
  {
   "cell_type": "markdown",
   "metadata": {},
   "source": [
    "### Create\n"
   ]
  },
  {
   "cell_type": "code",
   "execution_count": 7,
   "metadata": {},
   "outputs": [
    {
     "data": {
      "text/plain": [
       "<sqlite3.Cursor at 0x1eab9f864c0>"
      ]
     },
     "execution_count": 7,
     "metadata": {},
     "output_type": "execute_result"
    }
   ],
   "source": [
    "imlec.execute(\"\"\"CREATE TABLE IF NOT EXISTS ogrenciler(ogr_no INTEGER ,ogr_adi TEXT,ogr_soyadi TEXT,ogr_bolum TEXT)\"\"\")\n"
   ]
  },
  {
   "cell_type": "code",
   "execution_count": 8,
   "metadata": {},
   "outputs": [
    {
     "data": {
      "text/plain": [
       "<sqlite3.Cursor at 0x1eab9f864c0>"
      ]
     },
     "execution_count": 8,
     "metadata": {},
     "output_type": "execute_result"
    }
   ],
   "source": [
    "imlec.execute(\"\"\"\n",
    "    insert into ogrenciler values(12,\"Mustafa\", \"Kaya\", \"Bilgisayar Mühendisliği\")\n",
    "\"\"\")"
   ]
  },
  {
   "cell_type": "code",
   "execution_count": 9,
   "metadata": {},
   "outputs": [],
   "source": [
    "database_connect.commit()\n",
    "database_connect.close()"
   ]
  },
  {
   "cell_type": "code",
   "execution_count": 6,
   "metadata": {},
   "outputs": [],
   "source": [
    "with sqlite3.connect(\"sinif.db\") as database_connect:\n",
    "    imlec = database_connect.cursor()\n",
    "    imlec.execute(\"\"\"CREATE TABLE IF NOT EXISTS ogrenciler(ogr_no INTEGER ,ogr_adi TEXT,ogr_soyadi TEXT,ogr_bolum TEXT)\"\"\")\n",
    "    imlec.execute(\"\"\"INSERT INTO ogrenciler VALUES(23,\"Ömer\",\"Yıldız\",\"Bilgisayar Mühendisliği\") \"\"\")\n",
    "    database_connect.commit()"
   ]
  },
  {
   "cell_type": "markdown",
   "metadata": {},
   "source": [
    "### Read\n",
    "* fetchall() Metodu:         Tablodaki bütün verileri okur\n",
    "\n",
    "* fetchmany() Metodu:  Tablodan istediğimiz kadar veri okumayı sağlar\n",
    "\n",
    "* fetchone() Metodu:      Tablodan verileri tek tek okumayı sağlar"
   ]
  },
  {
   "cell_type": "code",
   "execution_count": 7,
   "metadata": {},
   "outputs": [
    {
     "data": {
      "text/plain": [
       "<sqlite3.Cursor at 0x1aec4a03740>"
      ]
     },
     "execution_count": 7,
     "metadata": {},
     "output_type": "execute_result"
    }
   ],
   "source": [
    "imlec.execute(\"\"\"SELECT * FROM ogrenciler\"\"\")"
   ]
  },
  {
   "cell_type": "code",
   "execution_count": 8,
   "metadata": {},
   "outputs": [
    {
     "name": "stdout",
     "output_type": "stream",
     "text": [
      "[(12, 'Mustafa', 'Kaya', 'Bilgisayar Mühendisliği'), (12, 'Mustafa', 'Kaya', 'Bilgisayar Mühendisliği'), (17, 'Ali', 'GEZEN', 'Bilgisayar Mühendisliği'), (17, 'Ali', 'GEZEN', 'Bilgisayar Mühendisliği'), (23, 'Ömer', 'Yıldız', 'Bilgisayar Mühendisliği')]\n"
     ]
    }
   ],
   "source": [
    "ogrenciler = imlec.fetchall()\n",
    "print(ogrenciler)"
   ]
  },
  {
   "cell_type": "code",
   "execution_count": 9,
   "metadata": {},
   "outputs": [
    {
     "name": "stdout",
     "output_type": "stream",
     "text": [
      "(12, 'Mustafa', 'Kaya', 'Bilgisayar Mühendisliği')\n",
      "(12, 'Mustafa', 'Kaya', 'Bilgisayar Mühendisliği')\n",
      "(17, 'Ali', 'GEZEN', 'Bilgisayar Mühendisliği')\n",
      "(17, 'Ali', 'GEZEN', 'Bilgisayar Mühendisliği')\n",
      "(23, 'Ömer', 'Yıldız', 'Bilgisayar Mühendisliği')\n"
     ]
    }
   ],
   "source": [
    "for ogrenci in ogrenciler:\n",
    "    print(ogrenci)"
   ]
  },
  {
   "cell_type": "code",
   "execution_count": 12,
   "metadata": {},
   "outputs": [
    {
     "name": "stdout",
     "output_type": "stream",
     "text": [
      "(12, 'Mustafa', 'Kaya', 'Bilgisayar Mühendisliği')\n",
      "(12, 'Mustafa', 'Kaya', 'Bilgisayar Mühendisliği')\n",
      "(17, 'Ali', 'GEZEN', 'Bilgisayar Mühendisliği')\n",
      "(17, 'Ali', 'GEZEN', 'Bilgisayar Mühendisliği')\n",
      "(23, 'Ömer', 'Yıldız', 'Bilgisayar Mühendisliği')\n"
     ]
    }
   ],
   "source": [
    "imlec.execute(\"\"\" \n",
    "select * from ogrenciler where ogr_bolum = \"Bilgisayar Mühendisliği\"\n",
    "\"\"\")\n",
    "ogrenciler = imlec.fetchall()\n",
    "\n",
    "\n",
    "for ogrenci in ogrenciler:\n",
    "    print(ogrenci)"
   ]
  },
  {
   "cell_type": "markdown",
   "metadata": {},
   "source": [
    "### Update"
   ]
  },
  {
   "cell_type": "code",
   "execution_count": 29,
   "metadata": {},
   "outputs": [
    {
     "data": {
      "text/plain": [
       "<sqlite3.Cursor at 0x1aec4a03740>"
      ]
     },
     "execution_count": 29,
     "metadata": {},
     "output_type": "execute_result"
    }
   ],
   "source": [
    "imlec.execute(\"\"\"UPDATE ogrenciler SET ogr_no = 23 WHERE ogr_bolum = \"Yazılım Mühendisliği\" \"\"\") "
   ]
  },
  {
   "cell_type": "code",
   "execution_count": 30,
   "metadata": {},
   "outputs": [
    {
     "name": "stdout",
     "output_type": "stream",
     "text": [
      "[(12, 'Mustafa', 'Kaya', 'Bilgisayar Mühendisliği'), (12, 'Mustafa', 'Kaya', 'Bilgisayar Mühendisliği'), (17, 'Ali', 'GEZEN', 'Bilgisayar Mühendisliği'), (17, 'Ali', 'GEZEN', 'Bilgisayar Mühendisliği'), (23, 'Ömer', 'Yıldız', 'Bilgisayar Mühendisliği')]\n"
     ]
    }
   ],
   "source": [
    "imlec.execute(\"\"\"SELECT * FROM ogrenciler\"\"\")\n",
    "ogrenciler = imlec.fetchall()\n",
    "print(ogrenciler)"
   ]
  },
  {
   "cell_type": "markdown",
   "metadata": {},
   "source": [
    "### Delete"
   ]
  },
  {
   "cell_type": "code",
   "execution_count": 31,
   "metadata": {},
   "outputs": [
    {
     "data": {
      "text/plain": [
       "<sqlite3.Cursor at 0x1aec4a03740>"
      ]
     },
     "execution_count": 31,
     "metadata": {},
     "output_type": "execute_result"
    }
   ],
   "source": [
    "imlec.execute(\"\"\"DELETE FROM ogrenciler WHERE ogr_bolum = 'Bilgisayar Mühendisliği' \"\"\")"
   ]
  },
  {
   "cell_type": "code",
   "execution_count": 32,
   "metadata": {},
   "outputs": [
    {
     "name": "stdout",
     "output_type": "stream",
     "text": [
      "[]\n"
     ]
    }
   ],
   "source": [
    "imlec.execute(\"\"\"SELECT * FROM ogrenciler\"\"\")\n",
    "ogrenciler = imlec.fetchall()\n",
    "print(ogrenciler)"
   ]
  },
  {
   "cell_type": "code",
   "execution_count": 33,
   "metadata": {},
   "outputs": [],
   "source": [
    "database_connect.commit()\n",
    "database_connect.close()"
   ]
  },
  {
   "cell_type": "code",
   "execution_count": null,
   "metadata": {},
   "outputs": [],
   "source": []
  }
 ],
 "metadata": {
  "kernelspec": {
   "display_name": "Python 3.10.5 64-bit",
   "language": "python",
   "name": "python3"
  },
  "language_info": {
   "codemirror_mode": {
    "name": "ipython",
    "version": 3
   },
   "file_extension": ".py",
   "mimetype": "text/x-python",
   "name": "python",
   "nbconvert_exporter": "python",
   "pygments_lexer": "ipython3",
   "version": "3.10.5"
  },
  "orig_nbformat": 4,
  "vscode": {
   "interpreter": {
    "hash": "b885c526da3326e581d3a88563282ab625602807b12d7b4af8a2a7f32a015837"
   }
  }
 },
 "nbformat": 4,
 "nbformat_minor": 2
}
