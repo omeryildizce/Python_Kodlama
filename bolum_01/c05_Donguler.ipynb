{
 "cells": [
  {
   "cell_type": "markdown",
   "metadata": {},
   "source": [
    "# Python Döngüler"
   ]
  },
  {
   "cell_type": "markdown",
   "metadata": {},
   "source": [
    "## While Döngüsü"
   ]
  },
  {
   "cell_type": "code",
   "execution_count": 1,
   "metadata": {},
   "outputs": [
    {
     "name": "stdout",
     "output_type": "stream",
     "text": [
      "0\n",
      "1\n",
      "2\n",
      "3\n",
      "4\n",
      "5\n",
      "6\n",
      "7\n",
      "8\n",
      "9\n",
      "10\n"
     ]
    }
   ],
   "source": [
    "# 0-10 arasındaki sayıları yazdıralım\n",
    "sayi = 0\n",
    "\n",
    "while sayi <= 10:\n",
    "    print(sayi)\n",
    "    sayi = sayi + 1"
   ]
  },
  {
   "cell_type": "code",
   "execution_count": 2,
   "metadata": {},
   "outputs": [
    {
     "name": "stdout",
     "output_type": "stream",
     "text": [
      "Harf Notu F\n",
      "Harf Notu C\n"
     ]
    }
   ],
   "source": [
    "# Harf notu hesaplama\n",
    "while True:\n",
    "    vize, final = 0,0\n",
    "    vize = int(input(\"Vize Notu: \"))\n",
    "    final = int(input(\"Vize Notu: \"))\n",
    "\n",
    "    ortalama = vize * 0.4 + final * 0.6\n",
    "\n",
    "    if ortalama > 89:\n",
    "        print(\"Harf Notu A\")\n",
    "    elif ortalama > 74:\n",
    "        print(\"Harf Notu B\")\n",
    "    elif ortalama > 59:\n",
    "        print(\"Harf Notu C\")\n",
    "    elif ortalama >= 0:\n",
    "        print(\"Harf Notu F\")\n",
    "    else:\n",
    "        break"
   ]
  },
  {
   "cell_type": "markdown",
   "metadata": {},
   "source": [
    "# For Döngüsü"
   ]
  },
  {
   "cell_type": "code",
   "execution_count": 3,
   "metadata": {},
   "outputs": [
    {
     "name": "stdout",
     "output_type": "stream",
     "text": [
      "0 1 2 3 4 5 6 7 8 9 10 \n",
      "11 12 13 14 15 16 17 18 19 20 \n",
      "21 22 23 24 25 26 27 28 29 30 \n",
      "31 32 33 34 35 36 37 38 39 40 \n",
      "41 42 43 44 45 46 47 48 49 50 \n",
      "51 52 53 54 55 56 57 58 59 60 \n",
      "61 62 63 64 65 66 67 68 69 70 \n",
      "71 72 73 74 75 76 77 78 79 80 \n",
      "81 82 83 84 85 86 87 88 89 90 \n",
      "91 92 93 94 95 96 97 98 99 100 \n"
     ]
    }
   ],
   "source": [
    "# 0-100 arası sayıları yazdıralım\n",
    "for i in range(0,101):\n",
    "\n",
    "    print(i, end=\" \")\n",
    "    if i>0 and i % 10 == 0:\n",
    "        print(end=\"\\n\")\n",
    "    "
   ]
  },
  {
   "cell_type": "code",
   "execution_count": 4,
   "metadata": {},
   "outputs": [
    {
     "name": "stdout",
     "output_type": "stream",
     "text": [
      "2\n",
      "4\n",
      "6\n",
      "8\n",
      "10\n",
      "12\n",
      "14\n",
      "16\n",
      "18\n"
     ]
    }
   ],
   "source": [
    "# range\n",
    "for i in range(2, 20, 2):\n",
    "    print(i)"
   ]
  },
  {
   "cell_type": "code",
   "execution_count": 5,
   "metadata": {},
   "outputs": [
    {
     "name": "stdout",
     "output_type": "stream",
     "text": [
      "20\n",
      "18\n",
      "16\n",
      "14\n",
      "12\n",
      "10\n",
      "8\n",
      "6\n",
      "4\n",
      "2\n"
     ]
    }
   ],
   "source": [
    "# range\n",
    "for i in range(20, 0, -2):\n",
    "    print(i)"
   ]
  },
  {
   "cell_type": "code",
   "execution_count": 7,
   "metadata": {},
   "outputs": [
    {
     "name": "stdout",
     "output_type": "stream",
     "text": [
      "6\n"
     ]
    }
   ],
   "source": [
    "metin = \"Python\"\n",
    "print(len(metin))"
   ]
  },
  {
   "cell_type": "markdown",
   "metadata": {},
   "source": [
    "Break"
   ]
  },
  {
   "cell_type": "code",
   "execution_count": 1,
   "metadata": {},
   "outputs": [
    {
     "name": "stdout",
     "output_type": "stream",
     "text": [
      "Kullanıcı bilgileri yanlış tekrar deneyiniz.\n",
      "Kullanıcı bilgileri yanlış tekrar deneyiniz.\n",
      "Kullanıcı bilgileri yanlış tekrar deneyiniz.\n"
     ]
    }
   ],
   "source": [
    "username = \"Python\"\n",
    "parolam = \"1234\"\n",
    "  \n",
    "giris_hakki = 3\n",
    "\n",
    "while giris_hakki>0:\n",
    "    kullanici_adi = input(\"Kullanıcı Adını Giriniz.\")\n",
    "    parola = input(\"Parolayı Giriniz.\")\n",
    "\n",
    "    if kullanici_adi == username and parola == parolam:\n",
    "        print(\"Sistem başarıl bir şekilde giriş yaptınız.\")\n",
    "        break\n",
    "    else:\n",
    "        print(\"Kullanıcı bilgileri yanlış tekrar deneyiniz.\")\n",
    "    \n",
    "    giris_hakki -=1"
   ]
  },
  {
   "cell_type": "code",
   "execution_count": 2,
   "metadata": {},
   "outputs": [
    {
     "name": "stdout",
     "output_type": "stream",
     "text": [
      "1\n",
      "3\n",
      "5\n",
      "7\n",
      "9\n",
      "11\n",
      "13\n",
      "15\n",
      "17\n",
      "19\n"
     ]
    }
   ],
   "source": [
    "for sayi in range(20):\n",
    " \n",
    "    if sayi%2==0:\n",
    " \n",
    "        continue\n",
    " \n",
    " \n",
    "    else:\n",
    " \n",
    "        print(sayi)"
   ]
  },
  {
   "cell_type": "code",
   "execution_count": null,
   "metadata": {},
   "outputs": [],
   "source": []
  }
 ],
 "metadata": {
  "kernelspec": {
   "display_name": "Python 3.10.5 64-bit",
   "language": "python",
   "name": "python3"
  },
  "language_info": {
   "codemirror_mode": {
    "name": "ipython",
    "version": 3
   },
   "file_extension": ".py",
   "mimetype": "text/x-python",
   "name": "python",
   "nbconvert_exporter": "python",
   "pygments_lexer": "ipython3",
   "version": "3.10.5"
  },
  "orig_nbformat": 4,
  "vscode": {
   "interpreter": {
    "hash": "b885c526da3326e581d3a88563282ab625602807b12d7b4af8a2a7f32a015837"
   }
  }
 },
 "nbformat": 4,
 "nbformat_minor": 2
}
